{
  "nbformat": 4,
  "nbformat_minor": 0,
  "metadata": {
    "colab": {
      "name": "PROJ_FINAL // CASOS-COVID_PYSPARK",
      "provenance": [],
      "collapsed_sections": [],
      "include_colab_link": true
    },
    "kernelspec": {
      "name": "python3",
      "display_name": "Python 3"
    },
    "language_info": {
      "name": "python"
    }
  },
  "cells": [
    {
      "cell_type": "markdown",
      "metadata": {
        "id": "view-in-github",
        "colab_type": "text"
      },
      "source": [
        "<a href=\"https://colab.research.google.com/github/Isiumlord/ProjetoFinal-AcidentesTerrestres/blob/main/DataSet-CasosCovid-PySpark.ipynb\" target=\"_parent\"><img src=\"https://colab.research.google.com/assets/colab-badge.svg\" alt=\"Open In Colab\"/></a>"
      ]
    },
    {
      "cell_type": "code",
      "metadata": {
        "id": "YvS1RJztzwjU",
        "colab": {
          "base_uri": "https://localhost:8080/"
        },
        "outputId": "ad64a167-2972-4b7e-8bc9-0bf9921f463b"
      },
      "source": [
        "#1 INSTALANDO PYSPARK\n",
        "\n",
        "!pip install pyspark"
      ],
      "execution_count": null,
      "outputs": [
        {
          "output_type": "stream",
          "name": "stdout",
          "text": [
            "Collecting pyspark\n",
            "  Downloading pyspark-3.2.0.tar.gz (281.3 MB)\n",
            "\u001b[K     |████████████████████████████████| 281.3 MB 31 kB/s \n",
            "\u001b[?25hCollecting py4j==0.10.9.2\n",
            "  Downloading py4j-0.10.9.2-py2.py3-none-any.whl (198 kB)\n",
            "\u001b[K     |████████████████████████████████| 198 kB 55.8 MB/s \n",
            "\u001b[?25hBuilding wheels for collected packages: pyspark\n",
            "  Building wheel for pyspark (setup.py) ... \u001b[?25l\u001b[?25hdone\n",
            "  Created wheel for pyspark: filename=pyspark-3.2.0-py2.py3-none-any.whl size=281805912 sha256=06c98746f6216b021c2b5b10ab885810b3b025c7f6135a18f454163abe9834df\n",
            "  Stored in directory: /root/.cache/pip/wheels/0b/de/d2/9be5d59d7331c6c2a7c1b6d1a4f463ce107332b1ecd4e80718\n",
            "Successfully built pyspark\n",
            "Installing collected packages: py4j, pyspark\n",
            "Successfully installed py4j-0.10.9.2 pyspark-3.2.0\n"
          ]
        }
      ]
    },
    {
      "cell_type": "code",
      "metadata": {
        "id": "Uz8uXwE80GcN"
      },
      "source": [
        "#2 IMPORTANDO DIVERSAS FUNÇÕES\n",
        "\n",
        "from pyspark.sql import SparkSession\n",
        "import pyspark.sql.functions as F\n",
        "from pyspark.sql.types import StructType, StructField, StringType, IntegerType, DoubleType, DateType\n",
        "import numpy as np\n",
        "from pyspark.sql.functions import when, round\n",
        "from pyspark.sql.functions import regexp_replace\n",
        "from pyspark.sql.functions import col, avg, count, sum, min, max, mean\n",
        "from pyspark.sql.functions import rank\n",
        "from pyspark.sql.window import Window\n",
        "from pyspark.sql.functions import row_number\n",
        "from pyspark.sql.functions import monotonically_increasing_id "
      ],
      "execution_count": null,
      "outputs": []
    },
    {
      "cell_type": "code",
      "metadata": {
        "id": "rkLOY8a_CLwm",
        "colab": {
          "base_uri": "https://localhost:8080/"
        },
        "outputId": "9402afeb-4e8a-4dd6-a0cb-4ad745c21059"
      },
      "source": [
        "#3 INTEGRANDO COM A GCP\n",
        "\n",
        "from google.colab import auth\n",
        "auth.authenticate_user()\n",
        "project_id = 'projeto-final-grupo03'\n",
        "!gcloud config set project projeto-final-grupo03"
      ],
      "execution_count": null,
      "outputs": [
        {
          "output_type": "stream",
          "name": "stdout",
          "text": [
            "Updated property [core/project].\n"
          ]
        }
      ]
    },
    {
      "cell_type": "code",
      "metadata": {
        "id": "8kb73OexC1AE",
        "colab": {
          "base_uri": "https://localhost:8080/"
        },
        "outputId": "ab11bca8-6e8f-4cef-b777-6c3583877b55"
      },
      "source": [
        "#4 IMPORTANDO DO ARQUIVO NA BUCKET PARA O COLAB\n",
        "\n",
        "!gsutil cp gs://notebooks_pandas_gp03/casos-covid_tratado.csv /tmp/casos-covid_tratado.csv"
      ],
      "execution_count": null,
      "outputs": [
        {
          "output_type": "stream",
          "name": "stdout",
          "text": [
            "Copying gs://notebooks_pandas_gp03/casos-covid_tratado.csv...\n",
            "/ [1 files][614.5 KiB/614.5 KiB]                                                \n",
            "Operation completed over 1 objects/614.5 KiB.                                    \n"
          ]
        }
      ]
    },
    {
      "cell_type": "code",
      "metadata": {
        "id": "LdAMG_dx1ySY"
      },
      "source": [
        "#5 INICIANDO SESSÃO DO SPARK\n",
        "\n",
        "spark = (SparkSession.builder\n",
        "        .master(\"local\")\n",
        "        .appName(\"dataframe_projeto\")\n",
        "        .config(\"spark.ui.port', '4050\") \n",
        "        .getOrCreate())"
      ],
      "execution_count": null,
      "outputs": []
    },
    {
      "cell_type": "code",
      "metadata": {
        "id": "sK6Aeri_3EEv"
      },
      "source": [
        "#6 IMPORTANDO DF A PARTIR DO ARQUIVO CSV ANTERIORMENTE NORMALIZADO NO PANDAS\n",
        "\n",
        "df = (spark.read.format('csv')\n",
        "      .option(\"inferSchema\", True)\n",
        "      .option(\"header\", True)\n",
        "      .option('sep', ',')\n",
        "      .load('/tmp/casos-covid_tratado.csv')\n",
        ")"
      ],
      "execution_count": null,
      "outputs": []
    },
    {
      "cell_type": "code",
      "metadata": {
        "id": "2-b59KufjehG",
        "colab": {
          "base_uri": "https://localhost:8080/"
        },
        "outputId": "8ff497ca-bfa5-403e-fc3e-e66c59a7e2b7"
      },
      "source": [
        "#7 MOSTRA O ESQUEMA DO DATAFRAME\n",
        "\n",
        "df.printSchema()"
      ],
      "execution_count": null,
      "outputs": [
        {
          "output_type": "stream",
          "name": "stdout",
          "text": [
            "root\n",
            " |-- _c0: integer (nullable = true)\n",
            " |-- Data: string (nullable = true)\n",
            " |-- Estado: string (nullable = true)\n",
            " |-- Novas_Mortes: integer (nullable = true)\n",
            " |-- Mortes: integer (nullable = true)\n",
            " |-- Novos_Casos: integer (nullable = true)\n",
            " |-- Total_De_Casos: integer (nullable = true)\n",
            "\n"
          ]
        }
      ]
    },
    {
      "cell_type": "code",
      "metadata": {
        "colab": {
          "base_uri": "https://localhost:8080/"
        },
        "id": "ZNM14LSp-Cr1",
        "outputId": "786f08de-663c-4f62-ddf8-915d847b3d29"
      },
      "source": [
        "df.show()"
      ],
      "execution_count": null,
      "outputs": [
        {
          "output_type": "stream",
          "name": "stdout",
          "text": [
            "+---+----------+------+------------+------+-----------+--------------+\n",
            "|_c0|      Data|Estado|Novas_Mortes|Mortes|Novos_Casos|Total_De_Casos|\n",
            "+---+----------+------+------------+------+-----------+--------------+\n",
            "|  0|2020-02-25|    SP|           0|     0|          1|             1|\n",
            "|  2|2020-02-26|    SP|           0|     0|          0|             1|\n",
            "|  4|2020-02-27|    SP|           0|     0|          0|             1|\n",
            "|  6|2020-02-28|    SP|           0|     0|          1|             2|\n",
            "|  8|2020-02-29|    SP|           0|     0|          0|             2|\n",
            "| 10|2020-03-01|    SP|           0|     0|          0|             2|\n",
            "| 12|2020-03-02|    SP|           0|     0|          0|             2|\n",
            "| 14|2020-03-03|    SP|           0|     0|          0|             2|\n",
            "| 16|2020-03-04|    SP|           0|     0|          1|             3|\n",
            "| 18|2020-03-05|    RJ|           0|     0|          1|             1|\n",
            "| 19|2020-03-05|    SP|           0|     0|          3|             6|\n",
            "| 21|2020-03-06|    BA|           0|     0|          1|             1|\n",
            "| 22|2020-03-06|    ES|           0|     0|          1|             1|\n",
            "| 23|2020-03-06|    RJ|           0|     0|          1|             2|\n",
            "| 24|2020-03-06|    SP|           0|     0|          4|            10|\n",
            "| 26|2020-03-07|    BA|           0|     0|          1|             2|\n",
            "| 27|2020-03-07|    DF|           0|     0|          1|             1|\n",
            "| 28|2020-03-07|    ES|           0|     0|          0|             1|\n",
            "| 29|2020-03-07|    RJ|           0|     0|          0|             2|\n",
            "| 30|2020-03-07|    SP|           0|     0|          3|            13|\n",
            "+---+----------+------+------------+------+-----------+--------------+\n",
            "only showing top 20 rows\n",
            "\n"
          ]
        }
      ]
    },
    {
      "cell_type": "code",
      "metadata": {
        "id": "OmX1LeoVubDR"
      },
      "source": [
        "#8 DROPANDO INDEX\n",
        "\n",
        "df1 = df.drop('_c0')"
      ],
      "execution_count": null,
      "outputs": []
    },
    {
      "cell_type": "code",
      "metadata": {
        "id": "chKBi8mIQVFY"
      },
      "source": [
        "#9 MUDAR O TIPO DE DATA PARA DATE COM CAST\n",
        "\n",
        "df1 = df1.withColumn(\"Data\", df.Data.cast(\"date\"))"
      ],
      "execution_count": null,
      "outputs": []
    },
    {
      "cell_type": "code",
      "metadata": {
        "id": "bmDzIWse38Et",
        "collapsed": true,
        "colab": {
          "base_uri": "https://localhost:8080/"
        },
        "outputId": "9adbafa6-2d6f-4a16-b75e-1a7951cc9666"
      },
      "source": [
        "#10 VERIFICANDO MODIFICAÇÃO\n",
        "\n",
        "df1.printSchema()\n",
        "df1.show()"
      ],
      "execution_count": null,
      "outputs": [
        {
          "output_type": "stream",
          "name": "stdout",
          "text": [
            "root\n",
            " |-- Data: date (nullable = true)\n",
            " |-- Estado: string (nullable = true)\n",
            " |-- Novas_Mortes: integer (nullable = true)\n",
            " |-- Mortes: integer (nullable = true)\n",
            " |-- Novos_Casos: integer (nullable = true)\n",
            " |-- Total_De_Casos: integer (nullable = true)\n",
            "\n",
            "+----------+------+------------+------+-----------+--------------+\n",
            "|      Data|Estado|Novas_Mortes|Mortes|Novos_Casos|Total_De_Casos|\n",
            "+----------+------+------------+------+-----------+--------------+\n",
            "|2020-02-25|    SP|           0|     0|          1|             1|\n",
            "|2020-02-26|    SP|           0|     0|          0|             1|\n",
            "|2020-02-27|    SP|           0|     0|          0|             1|\n",
            "|2020-02-28|    SP|           0|     0|          1|             2|\n",
            "|2020-02-29|    SP|           0|     0|          0|             2|\n",
            "|2020-03-01|    SP|           0|     0|          0|             2|\n",
            "|2020-03-02|    SP|           0|     0|          0|             2|\n",
            "|2020-03-03|    SP|           0|     0|          0|             2|\n",
            "|2020-03-04|    SP|           0|     0|          1|             3|\n",
            "|2020-03-05|    RJ|           0|     0|          1|             1|\n",
            "|2020-03-05|    SP|           0|     0|          3|             6|\n",
            "|2020-03-06|    BA|           0|     0|          1|             1|\n",
            "|2020-03-06|    ES|           0|     0|          1|             1|\n",
            "|2020-03-06|    RJ|           0|     0|          1|             2|\n",
            "|2020-03-06|    SP|           0|     0|          4|            10|\n",
            "|2020-03-07|    BA|           0|     0|          1|             2|\n",
            "|2020-03-07|    DF|           0|     0|          1|             1|\n",
            "|2020-03-07|    ES|           0|     0|          0|             1|\n",
            "|2020-03-07|    RJ|           0|     0|          0|             2|\n",
            "|2020-03-07|    SP|           0|     0|          3|            13|\n",
            "+----------+------+------------+------+-----------+--------------+\n",
            "only showing top 20 rows\n",
            "\n"
          ]
        }
      ]
    },
    {
      "cell_type": "code",
      "metadata": {
        "id": "CNHrdMmg6ofu",
        "collapsed": true,
        "colab": {
          "base_uri": "https://localhost:8080/"
        },
        "outputId": "2e6e9248-9542-48d3-82c4-71f7680fe073"
      },
      "source": [
        "#11 CRIANDO NOVA COLUNA SINALIZANDO REGIÃO DO BRASIL \n",
        "\n",
        "df2 = (df1.withColumn('Regiao', F.when((df1.Estado == 'PR') | (df1.Estado == 'RS') | (df1.Estado == 'SC'), 'Sul')\n",
        "                                .when((df1.Estado == 'SP') | (df1.Estado == 'RJ') | (df1.Estado == 'MG') | (df1.Estado == 'ES'), 'Sudeste')\n",
        "                                .when((df1.Estado == 'MT') | (df1.Estado == 'DF') | (df1.Estado == 'GO') | (df1.Estado == 'MS'), 'Centro-Oeste')\n",
        "                                .when((df1.Estado == 'RR') | (df1.Estado == 'AP') | (df1.Estado == 'AM') | (df1.Estado == 'PA') | (df1.Estado == 'AC') | (df1.Estado == 'RO') | (df1.Estado == 'TO'), 'Norte').otherwise('Nordeste')))\n",
        "df2.show()"
      ],
      "execution_count": null,
      "outputs": [
        {
          "output_type": "stream",
          "name": "stdout",
          "text": [
            "+----------+------+------------+------+-----------+--------------+------------+\n",
            "|      Data|Estado|Novas_Mortes|Mortes|Novos_Casos|Total_De_Casos|      Regiao|\n",
            "+----------+------+------------+------+-----------+--------------+------------+\n",
            "|2020-02-25|    SP|           0|     0|          1|             1|     Sudeste|\n",
            "|2020-02-26|    SP|           0|     0|          0|             1|     Sudeste|\n",
            "|2020-02-27|    SP|           0|     0|          0|             1|     Sudeste|\n",
            "|2020-02-28|    SP|           0|     0|          1|             2|     Sudeste|\n",
            "|2020-02-29|    SP|           0|     0|          0|             2|     Sudeste|\n",
            "|2020-03-01|    SP|           0|     0|          0|             2|     Sudeste|\n",
            "|2020-03-02|    SP|           0|     0|          0|             2|     Sudeste|\n",
            "|2020-03-03|    SP|           0|     0|          0|             2|     Sudeste|\n",
            "|2020-03-04|    SP|           0|     0|          1|             3|     Sudeste|\n",
            "|2020-03-05|    RJ|           0|     0|          1|             1|     Sudeste|\n",
            "|2020-03-05|    SP|           0|     0|          3|             6|     Sudeste|\n",
            "|2020-03-06|    BA|           0|     0|          1|             1|    Nordeste|\n",
            "|2020-03-06|    ES|           0|     0|          1|             1|     Sudeste|\n",
            "|2020-03-06|    RJ|           0|     0|          1|             2|     Sudeste|\n",
            "|2020-03-06|    SP|           0|     0|          4|            10|     Sudeste|\n",
            "|2020-03-07|    BA|           0|     0|          1|             2|    Nordeste|\n",
            "|2020-03-07|    DF|           0|     0|          1|             1|Centro-Oeste|\n",
            "|2020-03-07|    ES|           0|     0|          0|             1|     Sudeste|\n",
            "|2020-03-07|    RJ|           0|     0|          0|             2|     Sudeste|\n",
            "|2020-03-07|    SP|           0|     0|          3|            13|     Sudeste|\n",
            "+----------+------+------------+------+-----------+--------------+------------+\n",
            "only showing top 20 rows\n",
            "\n"
          ]
        }
      ]
    },
    {
      "cell_type": "code",
      "metadata": {
        "id": "-zKIwWGrziM2",
        "colab": {
          "base_uri": "https://localhost:8080/"
        },
        "outputId": "8aae3578-48fd-4a32-d336-fa7b514acc20"
      },
      "source": [
        "#12 AGRUPANDO DADOS POR ESTADO E POR REGIÃO\n",
        "\n",
        "df2.groupBy('Regiao').count().orderBy('count').show()\n",
        "df2.groupBy('Estado').count().orderBy('Estado').show()\n"
      ],
      "execution_count": null,
      "outputs": [
        {
          "output_type": "stream",
          "name": "stdout",
          "text": [
            "+------------+-----+\n",
            "|      Regiao|count|\n",
            "+------------+-----+\n",
            "|         Sul| 1865|\n",
            "|Centro-Oeste| 2479|\n",
            "|     Sudeste| 2517|\n",
            "|       Norte| 4304|\n",
            "|    Nordeste| 5572|\n",
            "+------------+-----+\n",
            "\n",
            "+------+-----+\n",
            "|Estado|count|\n",
            "+------+-----+\n",
            "|    AC|  616|\n",
            "|    AL|  625|\n",
            "|    AM|  620|\n",
            "|    AP|  613|\n",
            "|    BA|  627|\n",
            "|    CE|  617|\n",
            "|    DF|  626|\n",
            "|    ES|  627|\n",
            "|    GO|  621|\n",
            "|    MA|  613|\n",
            "|    MG|  625|\n",
            "|    MS|  619|\n",
            "|    MT|  613|\n",
            "|    PA|  615|\n",
            "|    PB|  615|\n",
            "|    PE|  621|\n",
            "|    PI|  614|\n",
            "|    PR|  621|\n",
            "|    RJ|  628|\n",
            "|    RN|  621|\n",
            "+------+-----+\n",
            "only showing top 20 rows\n",
            "\n"
          ]
        }
      ]
    },
    {
      "cell_type": "code",
      "metadata": {
        "id": "pI0LbKn6f6c6",
        "colab": {
          "base_uri": "https://localhost:8080/"
        },
        "outputId": "91c1955e-6ddb-41eb-e8c4-da6fe235b9cc"
      },
      "source": [
        "#13 CRIANDO NOVA COLUNA COM MÊS\n",
        "\n",
        "df2 = df2.withColumn('Mes', F.month(df2.Data))\n",
        "#df2 = df1.withColumn('mes', F.month(df1.data))\n",
        "df2.show()"
      ],
      "execution_count": null,
      "outputs": [
        {
          "output_type": "stream",
          "name": "stdout",
          "text": [
            "+----------+------+------------+------+-----------+--------------+------------+---+\n",
            "|      Data|Estado|Novas_Mortes|Mortes|Novos_Casos|Total_De_Casos|      Regiao|Mes|\n",
            "+----------+------+------------+------+-----------+--------------+------------+---+\n",
            "|2020-02-25|    SP|           0|     0|          1|             1|     Sudeste|  2|\n",
            "|2020-02-26|    SP|           0|     0|          0|             1|     Sudeste|  2|\n",
            "|2020-02-27|    SP|           0|     0|          0|             1|     Sudeste|  2|\n",
            "|2020-02-28|    SP|           0|     0|          1|             2|     Sudeste|  2|\n",
            "|2020-02-29|    SP|           0|     0|          0|             2|     Sudeste|  2|\n",
            "|2020-03-01|    SP|           0|     0|          0|             2|     Sudeste|  3|\n",
            "|2020-03-02|    SP|           0|     0|          0|             2|     Sudeste|  3|\n",
            "|2020-03-03|    SP|           0|     0|          0|             2|     Sudeste|  3|\n",
            "|2020-03-04|    SP|           0|     0|          1|             3|     Sudeste|  3|\n",
            "|2020-03-05|    RJ|           0|     0|          1|             1|     Sudeste|  3|\n",
            "|2020-03-05|    SP|           0|     0|          3|             6|     Sudeste|  3|\n",
            "|2020-03-06|    BA|           0|     0|          1|             1|    Nordeste|  3|\n",
            "|2020-03-06|    ES|           0|     0|          1|             1|     Sudeste|  3|\n",
            "|2020-03-06|    RJ|           0|     0|          1|             2|     Sudeste|  3|\n",
            "|2020-03-06|    SP|           0|     0|          4|            10|     Sudeste|  3|\n",
            "|2020-03-07|    BA|           0|     0|          1|             2|    Nordeste|  3|\n",
            "|2020-03-07|    DF|           0|     0|          1|             1|Centro-Oeste|  3|\n",
            "|2020-03-07|    ES|           0|     0|          0|             1|     Sudeste|  3|\n",
            "|2020-03-07|    RJ|           0|     0|          0|             2|     Sudeste|  3|\n",
            "|2020-03-07|    SP|           0|     0|          3|            13|     Sudeste|  3|\n",
            "+----------+------+------------+------+-----------+--------------+------------+---+\n",
            "only showing top 20 rows\n",
            "\n"
          ]
        }
      ]
    },
    {
      "cell_type": "code",
      "metadata": {
        "id": "KOuQ6LynhNnN",
        "colab": {
          "base_uri": "https://localhost:8080/"
        },
        "outputId": "84155074-7ad1-4544-caa2-3149b44ce838"
      },
      "source": [
        "#14 CRIANDO NOVA COLUNA COM ANO\n",
        "\n",
        "df2 = df2.withColumn('Ano', F.year(df2.Data))\n",
        "\n",
        "df2.show()"
      ],
      "execution_count": null,
      "outputs": [
        {
          "output_type": "stream",
          "name": "stdout",
          "text": [
            "+----------+------+------------+------+-----------+--------------+------------+---+----+\n",
            "|      Data|Estado|Novas_Mortes|Mortes|Novos_Casos|Total_De_Casos|      Regiao|Mes| Ano|\n",
            "+----------+------+------------+------+-----------+--------------+------------+---+----+\n",
            "|2020-02-25|    SP|           0|     0|          1|             1|     Sudeste|  2|2020|\n",
            "|2020-02-26|    SP|           0|     0|          0|             1|     Sudeste|  2|2020|\n",
            "|2020-02-27|    SP|           0|     0|          0|             1|     Sudeste|  2|2020|\n",
            "|2020-02-28|    SP|           0|     0|          1|             2|     Sudeste|  2|2020|\n",
            "|2020-02-29|    SP|           0|     0|          0|             2|     Sudeste|  2|2020|\n",
            "|2020-03-01|    SP|           0|     0|          0|             2|     Sudeste|  3|2020|\n",
            "|2020-03-02|    SP|           0|     0|          0|             2|     Sudeste|  3|2020|\n",
            "|2020-03-03|    SP|           0|     0|          0|             2|     Sudeste|  3|2020|\n",
            "|2020-03-04|    SP|           0|     0|          1|             3|     Sudeste|  3|2020|\n",
            "|2020-03-05|    RJ|           0|     0|          1|             1|     Sudeste|  3|2020|\n",
            "|2020-03-05|    SP|           0|     0|          3|             6|     Sudeste|  3|2020|\n",
            "|2020-03-06|    BA|           0|     0|          1|             1|    Nordeste|  3|2020|\n",
            "|2020-03-06|    ES|           0|     0|          1|             1|     Sudeste|  3|2020|\n",
            "|2020-03-06|    RJ|           0|     0|          1|             2|     Sudeste|  3|2020|\n",
            "|2020-03-06|    SP|           0|     0|          4|            10|     Sudeste|  3|2020|\n",
            "|2020-03-07|    BA|           0|     0|          1|             2|    Nordeste|  3|2020|\n",
            "|2020-03-07|    DF|           0|     0|          1|             1|Centro-Oeste|  3|2020|\n",
            "|2020-03-07|    ES|           0|     0|          0|             1|     Sudeste|  3|2020|\n",
            "|2020-03-07|    RJ|           0|     0|          0|             2|     Sudeste|  3|2020|\n",
            "|2020-03-07|    SP|           0|     0|          3|            13|     Sudeste|  3|2020|\n",
            "+----------+------+------------+------+-----------+--------------+------------+---+----+\n",
            "only showing top 20 rows\n",
            "\n"
          ]
        }
      ]
    },
    {
      "cell_type": "code",
      "metadata": {
        "id": "DsatKpjA0_uJ",
        "colab": {
          "base_uri": "https://localhost:8080/"
        },
        "outputId": "a449e12f-c9da-4e28-afc9-247aa1e6616b"
      },
      "source": [
        "#15 AGRUPANDO QUANTIDADE DE INFORMAÇÕES POR MÊS E ANO\n",
        "\n",
        "df2.groupBy('Mes').count().orderBy('Mes').show()\n",
        "\n",
        "df2.groupBy('Ano').count().orderBy('count').show()"
      ],
      "execution_count": null,
      "outputs": [
        {
          "output_type": "stream",
          "name": "stdout",
          "text": [
            "+---+-----+\n",
            "|Mes|count|\n",
            "+---+-----+\n",
            "|  1|  837|\n",
            "|  2|  761|\n",
            "|  3| 1342|\n",
            "|  4| 1620|\n",
            "|  5| 1674|\n",
            "|  6| 1620|\n",
            "|  7| 1674|\n",
            "|  8| 1674|\n",
            "|  9| 1620|\n",
            "| 10| 1674|\n",
            "| 11| 1404|\n",
            "| 12|  837|\n",
            "+---+-----+\n",
            "\n",
            "+----+-----+\n",
            "| Ano|count|\n",
            "+----+-----+\n",
            "|2020| 7935|\n",
            "|2021| 8802|\n",
            "+----+-----+\n",
            "\n"
          ]
        }
      ]
    },
    {
      "cell_type": "code",
      "metadata": {
        "id": "0SsZh4z54wll",
        "colab": {
          "base_uri": "https://localhost:8080/"
        },
        "outputId": "ddf422e7-a35a-4fd7-db46-62a1f8973913"
      },
      "source": [
        "#16 FILTRO PARA SABER QUANTAS VEZES O NÚMERO DE MORTES DIÁRIAS ATINGIU 200 X ESTADO\n",
        "\n",
        "df2.filter(df.Novas_Mortes >= 200).groupBy('Estado').count().orderBy('count').show()"
      ],
      "execution_count": null,
      "outputs": [
        {
          "output_type": "stream",
          "name": "stdout",
          "text": [
            "+------+-----+\n",
            "|Estado|count|\n",
            "+------+-----+\n",
            "|    AM|    1|\n",
            "|    PA|    2|\n",
            "|    SC|    2|\n",
            "|    GO|    7|\n",
            "|    CE|   16|\n",
            "|    RS|   29|\n",
            "|    PR|   42|\n",
            "|    MG|   83|\n",
            "|    RJ|   99|\n",
            "|    SP|  289|\n",
            "+------+-----+\n",
            "\n"
          ]
        }
      ]
    },
    {
      "cell_type": "code",
      "metadata": {
        "id": "uBZH_6DF6bK2",
        "colab": {
          "base_uri": "https://localhost:8080/"
        },
        "outputId": "26566d70-9cf0-474a-e7e1-7ab1b4ed1dfc"
      },
      "source": [
        "#17 FILTRO PARA SABER QUANTAS VEZES O NÚMERO DE MORTES DIÁRIAS ATINGIU 200 X REGIÃO\n",
        "\n",
        "df2.filter(df.Novas_Mortes >= 200).groupBy('Regiao').count().orderBy('count').show()"
      ],
      "execution_count": null,
      "outputs": [
        {
          "output_type": "stream",
          "name": "stdout",
          "text": [
            "+------------+-----+\n",
            "|      Regiao|count|\n",
            "+------------+-----+\n",
            "|       Norte|    3|\n",
            "|Centro-Oeste|    7|\n",
            "|    Nordeste|   16|\n",
            "|         Sul|   73|\n",
            "|     Sudeste|  471|\n",
            "+------------+-----+\n",
            "\n"
          ]
        }
      ]
    },
    {
      "cell_type": "code",
      "metadata": {
        "id": "Qbj2iREFfh9T",
        "colab": {
          "base_uri": "https://localhost:8080/"
        },
        "outputId": "5e388494-d7a5-4ae1-c62e-bb1180ca94b8"
      },
      "source": [
        "df2.printSchema()\n",
        "df2.show()"
      ],
      "execution_count": null,
      "outputs": [
        {
          "output_type": "stream",
          "name": "stdout",
          "text": [
            "root\n",
            " |-- Data: date (nullable = true)\n",
            " |-- Estado: string (nullable = true)\n",
            " |-- Novas_Mortes: integer (nullable = true)\n",
            " |-- Mortes: integer (nullable = true)\n",
            " |-- Novos_Casos: integer (nullable = true)\n",
            " |-- Total_De_Casos: integer (nullable = true)\n",
            " |-- Regiao: string (nullable = false)\n",
            " |-- Mes: integer (nullable = true)\n",
            " |-- Ano: integer (nullable = true)\n",
            "\n",
            "+----------+------+------------+------+-----------+--------------+------------+---+----+\n",
            "|      Data|Estado|Novas_Mortes|Mortes|Novos_Casos|Total_De_Casos|      Regiao|Mes| Ano|\n",
            "+----------+------+------------+------+-----------+--------------+------------+---+----+\n",
            "|2020-02-25|    SP|           0|     0|          1|             1|     Sudeste|  2|2020|\n",
            "|2020-02-26|    SP|           0|     0|          0|             1|     Sudeste|  2|2020|\n",
            "|2020-02-27|    SP|           0|     0|          0|             1|     Sudeste|  2|2020|\n",
            "|2020-02-28|    SP|           0|     0|          1|             2|     Sudeste|  2|2020|\n",
            "|2020-02-29|    SP|           0|     0|          0|             2|     Sudeste|  2|2020|\n",
            "|2020-03-01|    SP|           0|     0|          0|             2|     Sudeste|  3|2020|\n",
            "|2020-03-02|    SP|           0|     0|          0|             2|     Sudeste|  3|2020|\n",
            "|2020-03-03|    SP|           0|     0|          0|             2|     Sudeste|  3|2020|\n",
            "|2020-03-04|    SP|           0|     0|          1|             3|     Sudeste|  3|2020|\n",
            "|2020-03-05|    RJ|           0|     0|          1|             1|     Sudeste|  3|2020|\n",
            "|2020-03-05|    SP|           0|     0|          3|             6|     Sudeste|  3|2020|\n",
            "|2020-03-06|    BA|           0|     0|          1|             1|    Nordeste|  3|2020|\n",
            "|2020-03-06|    ES|           0|     0|          1|             1|     Sudeste|  3|2020|\n",
            "|2020-03-06|    RJ|           0|     0|          1|             2|     Sudeste|  3|2020|\n",
            "|2020-03-06|    SP|           0|     0|          4|            10|     Sudeste|  3|2020|\n",
            "|2020-03-07|    BA|           0|     0|          1|             2|    Nordeste|  3|2020|\n",
            "|2020-03-07|    DF|           0|     0|          1|             1|Centro-Oeste|  3|2020|\n",
            "|2020-03-07|    ES|           0|     0|          0|             1|     Sudeste|  3|2020|\n",
            "|2020-03-07|    RJ|           0|     0|          0|             2|     Sudeste|  3|2020|\n",
            "|2020-03-07|    SP|           0|     0|          3|            13|     Sudeste|  3|2020|\n",
            "+----------+------+------------+------+-----------+--------------+------------+---+----+\n",
            "only showing top 20 rows\n",
            "\n"
          ]
        }
      ]
    },
    {
      "cell_type": "code",
      "metadata": {
        "id": "3axGmL7bAHLW",
        "colab": {
          "base_uri": "https://localhost:8080/"
        },
        "outputId": "99857279-c598-4e9e-d6d1-0dd30d0482a6"
      },
      "source": [
        "#18 MÉDIA DE NOVAS MORTES POR ESTADO \n",
        "\n",
        "df2.groupBy('Estado').agg(round(mean(\"Novas_Mortes\")).alias(\"Media_Novas_Mortes_Estado\")).orderBy('Media_Novas_Mortes_Estado').show(27)"
      ],
      "execution_count": null,
      "outputs": [
        {
          "output_type": "stream",
          "name": "stdout",
          "text": [
            "+------+-------------------------+\n",
            "|Estado|Media_Novas_Mortes_Estado|\n",
            "+------+-------------------------+\n",
            "|    AC|                      3.0|\n",
            "|    RR|                      3.0|\n",
            "|    AP|                      3.0|\n",
            "|    TO|                      6.0|\n",
            "|    SE|                     10.0|\n",
            "|    AL|                     10.0|\n",
            "|    RO|                     11.0|\n",
            "|    PI|                     12.0|\n",
            "|    RN|                     12.0|\n",
            "|    PB|                     15.0|\n",
            "|    MS|                     16.0|\n",
            "|    MA|                     17.0|\n",
            "|    DF|                     18.0|\n",
            "|    ES|                     21.0|\n",
            "|    AM|                     22.0|\n",
            "|    MT|                     23.0|\n",
            "|    PA|                     27.0|\n",
            "|    PE|                     32.0|\n",
            "|    SC|                     32.0|\n",
            "|    GO|                     39.0|\n",
            "|    CE|                     40.0|\n",
            "|    BA|                     43.0|\n",
            "|    RS|                     58.0|\n",
            "|    PR|                     66.0|\n",
            "|    MG|                     90.0|\n",
            "|    RJ|                    110.0|\n",
            "|    SP|                    241.0|\n",
            "+------+-------------------------+\n",
            "\n"
          ]
        }
      ]
    },
    {
      "cell_type": "code",
      "metadata": {
        "id": "_i0qy-ALJHCP",
        "colab": {
          "base_uri": "https://localhost:8080/"
        },
        "outputId": "925d750f-ff2e-404b-ac71-c7cf64471c3c"
      },
      "source": [
        "#19 MEDIA DE NOVAS MORTES POR MES ENTRE 2020 / 2021\n",
        "\n",
        "df2.groupBy(('Mes'), F.col('Ano')).agg(round(mean(\"Novas_Mortes\")).alias(\"Media_Novas_Mortes_Mes\")).orderBy('Media_Novas_Mortes_Mes').show(24)"
      ],
      "execution_count": null,
      "outputs": [
        {
          "output_type": "stream",
          "name": "stdout",
          "text": [
            "+---+----+----------------------+\n",
            "|Mes| Ano|Media_Novas_Mortes_Mes|\n",
            "+---+----+----------------------+\n",
            "|  3|2020|                   0.0|\n",
            "|  2|2020|                   0.0|\n",
            "|  4|2020|                   7.0|\n",
            "| 11|2021|                   8.0|\n",
            "| 10|2021|                  13.0|\n",
            "| 11|2020|                  16.0|\n",
            "| 10|2020|                  19.0|\n",
            "|  9|2021|                  20.0|\n",
            "| 12|2020|                  26.0|\n",
            "|  5|2020|                  28.0|\n",
            "|  9|2020|                  28.0|\n",
            "|  8|2021|                  29.0|\n",
            "|  1|2021|                  35.0|\n",
            "|  8|2020|                  35.0|\n",
            "|  6|2020|                  38.0|\n",
            "|  7|2020|                  39.0|\n",
            "|  2|2021|                  40.0|\n",
            "|  7|2021|                  46.0|\n",
            "|  6|2021|                  68.0|\n",
            "|  5|2021|                  70.0|\n",
            "|  3|2021|                  80.0|\n",
            "|  4|2021|                 102.0|\n",
            "+---+----+----------------------+\n",
            "\n"
          ]
        }
      ]
    },
    {
      "cell_type": "code",
      "metadata": {
        "id": "N-8KnhBHNvF0",
        "colab": {
          "base_uri": "https://localhost:8080/"
        },
        "outputId": "cf9c9d40-52e0-4707-e707-039896848eca"
      },
      "source": [
        "#20 MOSTRANDO O MAIOR VALOR NA COLUNA 'NÚMERO DE CASOS NOVOS' AGRUPADO POR ESTADO\n",
        "\n",
        "df2.groupBy(F.col('Estado')).max('Novos_Casos').orderBy('max(Novos_Casos)').show(27)"
      ],
      "execution_count": null,
      "outputs": [
        {
          "output_type": "stream",
          "name": "stdout",
          "text": [
            "+------+----------------+\n",
            "|Estado|max(Novos_Casos)|\n",
            "+------+----------------+\n",
            "|    AC|             863|\n",
            "|    AL|            1312|\n",
            "|    TO|            1442|\n",
            "|    PI|            1907|\n",
            "|    RR|            2430|\n",
            "|    RO|            2477|\n",
            "|    SE|            2597|\n",
            "|    MA|            2805|\n",
            "|    AP|            3022|\n",
            "|    MS|            3034|\n",
            "|    DF|            3171|\n",
            "|    MT|            3417|\n",
            "|    ES|            3532|\n",
            "|    PA|            4387|\n",
            "|    AM|            5009|\n",
            "|    PE|            6487|\n",
            "|    PB|            8425|\n",
            "|    GO|            8716|\n",
            "|    BA|            8822|\n",
            "|    CE|           12619|\n",
            "|    MG|           16479|\n",
            "|    SP|           27706|\n",
            "|    SC|           30913|\n",
            "|    RN|           36374|\n",
            "|    PR|           45020|\n",
            "|    RS|           64036|\n",
            "|    RJ|          105200|\n",
            "+------+----------------+\n",
            "\n"
          ]
        }
      ]
    },
    {
      "cell_type": "code",
      "metadata": {
        "id": "WqrRa16ZWhV3",
        "collapsed": true,
        "colab": {
          "base_uri": "https://localhost:8080/"
        },
        "outputId": "356c6da5-094d-47e9-ae19-bf9e4a47e50b"
      },
      "source": [
        "#21 COMPARANDO MÉDIA DE NOVAS MORTES POR ESTADO X ANO\n",
        "\n",
        "df2.groupBy(F.col('Estado'), F.col('Ano')).agg(round(mean(\"Novas_Mortes\")).alias(\"Media_Novas_Mortes_Ano\")).orderBy('Estado').show(54)"
      ],
      "execution_count": null,
      "outputs": [
        {
          "output_type": "stream",
          "name": "stdout",
          "text": [
            "+------+----+----------------------+\n",
            "|Estado| Ano|Media_Novas_Mortes_Ano|\n",
            "+------+----+----------------------+\n",
            "|    AC|2021|                   3.0|\n",
            "|    AC|2020|                   3.0|\n",
            "|    AL|2021|                  12.0|\n",
            "|    AL|2020|                   8.0|\n",
            "|    AM|2020|                  18.0|\n",
            "|    AM|2021|                  26.0|\n",
            "|    AP|2020|                   3.0|\n",
            "|    AP|2021|                   3.0|\n",
            "|    BA|2021|                  56.0|\n",
            "|    BA|2020|                  30.0|\n",
            "|    CE|2020|                  34.0|\n",
            "|    CE|2021|                  45.0|\n",
            "|    DF|2021|                  21.0|\n",
            "|    DF|2020|                  14.0|\n",
            "|    ES|2020|                  17.0|\n",
            "|    ES|2021|                  25.0|\n",
            "|    GO|2021|                  54.0|\n",
            "|    GO|2020|                  23.0|\n",
            "|    MA|2020|                  16.0|\n",
            "|    MA|2021|                  18.0|\n",
            "|    MG|2020|                  40.0|\n",
            "|    MG|2021|                 135.0|\n",
            "|    MS|2021|                  22.0|\n",
            "|    MS|2020|                   8.0|\n",
            "|    MT|2021|                  29.0|\n",
            "|    MT|2020|                  16.0|\n",
            "|    PA|2021|                  30.0|\n",
            "|    PA|2020|                  25.0|\n",
            "|    PB|2021|                  18.0|\n",
            "|    PB|2020|                  13.0|\n",
            "|    PE|2020|                  33.0|\n",
            "|    PE|2021|                  32.0|\n",
            "|    PI|2020|                  10.0|\n",
            "|    PI|2021|                  13.0|\n",
            "|    PR|2020|                  27.0|\n",
            "|    PR|2021|                 101.0|\n",
            "|    RJ|2021|                 133.0|\n",
            "|    RJ|2020|                  85.0|\n",
            "|    RN|2021|                  14.0|\n",
            "|    RN|2020|                  10.0|\n",
            "|    RO|2020|                   6.0|\n",
            "|    RO|2021|                  15.0|\n",
            "|    RR|2020|                   3.0|\n",
            "|    RR|2021|                   4.0|\n",
            "|    RS|2021|                  83.0|\n",
            "|    RS|2020|                  30.0|\n",
            "|    SC|2021|                  45.0|\n",
            "|    SC|2020|                  18.0|\n",
            "|    SE|2021|                  11.0|\n",
            "|    SE|2020|                   8.0|\n",
            "|    SP|2021|                 327.0|\n",
            "|    SP|2020|                 150.0|\n",
            "|    TO|2020|                   4.0|\n",
            "|    TO|2021|                   8.0|\n",
            "+------+----+----------------------+\n",
            "\n"
          ]
        }
      ]
    },
    {
      "cell_type": "code",
      "metadata": {
        "id": "sGXz2V3a-WDo",
        "collapsed": true,
        "colab": {
          "base_uri": "https://localhost:8080/"
        },
        "outputId": "7e87b3a2-111e-49db-e3e5-f1873e276c63"
      },
      "source": [
        "#22 RANQUEANDO NÚMERO DE NOVOS CASOS POR ESTADO, MES E ANO\n",
        "\n",
        "window1 = Window.orderBy(col(\"Novos_Casos\").desc())\n",
        "df2 = df2.withColumn('RANK', row_number().over(window1))\n",
        "df2.select(df2.RANK, df2.Estado, df2.Mes, df2.Ano, df2.Novos_Casos).show()"
      ],
      "execution_count": null,
      "outputs": [
        {
          "output_type": "stream",
          "name": "stdout",
          "text": [
            "+----+------+---+----+-----------+\n",
            "|RANK|Estado|Mes| Ano|Novos_Casos|\n",
            "+----+------+---+----+-----------+\n",
            "|   1|    RJ|  9|2021|     105200|\n",
            "|   2|    RS|  7|2021|      64036|\n",
            "|   3|    PR|  3|2021|      45020|\n",
            "|   4|    RN|  6|2021|      36374|\n",
            "|   5|    PR|  1|2021|      32436|\n",
            "|   6|    SC|  8|2020|      30913|\n",
            "|   7|    SP|  6|2021|      27706|\n",
            "|   8|    SP|  4|2021|      26567|\n",
            "|   9|    SP|  9|2021|      23586|\n",
            "|  10|    SP|  6|2021|      23227|\n",
            "|  11|    SP|  3|2021|      23169|\n",
            "|  12|    SP|  6|2021|      23122|\n",
            "|  13|    SP|  6|2021|      23097|\n",
            "|  14|    SP|  6|2021|      23033|\n",
            "|  15|    SP|  6|2021|      22875|\n",
            "|  16|    SP|  4|2021|      22794|\n",
            "|  17|    SP|  9|2021|      22678|\n",
            "|  18|    SP|  6|2021|      22582|\n",
            "|  19|    SP|  4|2021|      21521|\n",
            "|  20|    SP| 11|2020|      21515|\n",
            "+----+------+---+----+-----------+\n",
            "only showing top 20 rows\n",
            "\n"
          ]
        }
      ]
    },
    {
      "cell_type": "code",
      "metadata": {
        "id": "BJm3f5BMqiZt"
      },
      "source": [
        "df2.show()"
      ],
      "execution_count": null,
      "outputs": []
    },
    {
      "cell_type": "code",
      "metadata": {
        "id": "Dk_LII5I-rmv",
        "collapsed": true,
        "colab": {
          "base_uri": "https://localhost:8080/"
        },
        "outputId": "fbf38a20-c304-4afc-d2c1-69d8fed02f42"
      },
      "source": [
        "#23 RANQUEANDO NÚMERO DE NOVAS MORTES POR ESTADO, MES E ANO\n",
        "\n",
        "window1 = Window.orderBy(col(\"Novas_Mortes\").desc())\n",
        "df2 = df2.withColumn('RANK', row_number().over(window1))\n",
        "df2.select(df2.RANK, df2.Estado, df2.Mes, df2.Ano, df2.Novas_Mortes).show(100)"
      ],
      "execution_count": null,
      "outputs": [
        {
          "output_type": "stream",
          "name": "stdout",
          "text": [
            "+----+------+---+----+------------+\n",
            "|RANK|Estado|Mes| Ano|Novas_Mortes|\n",
            "+----+------+---+----+------------+\n",
            "|   1|    SP|  4|2021|        1389|\n",
            "|   2|    SP|  4|2021|        1299|\n",
            "|   3|    SP|  4|2021|        1282|\n",
            "|   4|    SP|  3|2021|        1209|\n",
            "|   5|    SP|  3|2021|        1193|\n",
            "|   6|    SP|  3|2021|        1160|\n",
            "|   7|    SP|  4|2021|        1122|\n",
            "|   8|    SP|  4|2021|        1095|\n",
            "|   9|    SP|  4|2021|        1082|\n",
            "|  10|    SP|  4|2021|        1060|\n",
            "|  11|    SP|  3|2021|        1051|\n",
            "|  12|    SP|  4|2021|        1044|\n",
            "|  13|    SP|  3|2021|        1021|\n",
            "|  14|    SP|  4|2021|        1008|\n",
            "|  15|    SP|  4|2021|         977|\n",
            "|  16|    SP|  5|2021|         898|\n",
            "|  17|    SP|  6|2021|         897|\n",
            "|  18|    SP|  4|2021|         889|\n",
            "|  19|    SP|  4|2021|         876|\n",
            "|  20|    SP|  4|2021|         875|\n",
            "|  21|    SP|  4|2021|         863|\n",
            "|  22|    SP|  5|2021|         849|\n",
            "|  23|    SP|  6|2021|         843|\n",
            "|  24|    SP|  6|2021|         836|\n",
            "|  25|    SP|  6|2021|         825|\n",
            "|  26|    SP|  4|2021|         818|\n",
            "|  27|    SP|  4|2021|         814|\n",
            "|  28|    SP|  5|2021|         810|\n",
            "|  29|    SP|  5|2021|         806|\n",
            "|  30|    SP|  6|2021|         795|\n",
            "|  31|    SP|  4|2021|         791|\n",
            "|  32|    SP|  6|2021|         781|\n",
            "|  33|    SP|  6|2021|         772|\n",
            "|  34|    SP|  4|2021|         771|\n",
            "|  35|    SP|  6|2021|         767|\n",
            "|  36|    SP|  5|2021|         750|\n",
            "|  37|    SP|  5|2021|         747|\n",
            "|  38|    SP|  6|2021|         744|\n",
            "|  39|    SP|  6|2021|         733|\n",
            "|  40|    SP|  6|2021|         724|\n",
            "|  41|    SP|  6|2021|         722|\n",
            "|  42|    SP|  6|2021|         718|\n",
            "|  43|    SP|  6|2021|         717|\n",
            "|  44|    SP|  6|2021|         714|\n",
            "|  45|    SP|  7|2021|         714|\n",
            "|  46|    SP|  5|2021|         703|\n",
            "|  47|    SP|  5|2021|         696|\n",
            "|  48|    SP|  5|2021|         696|\n",
            "|  49|    SP|  5|2021|         689|\n",
            "|  50|    SP|  3|2021|         679|\n",
            "|  51|    SP|  5|2021|         666|\n",
            "|  52|    SP|  5|2021|         660|\n",
            "|  53|    SP|  3|2021|         659|\n",
            "|  54|    SP|  4|2021|         659|\n",
            "|  55|    SP|  4|2021|         657|\n",
            "|  56|    SP|  6|2021|         651|\n",
            "|  57|    SP|  6|2021|         651|\n",
            "|  58|    SP|  7|2021|         641|\n",
            "|  59|    SP|  7|2021|         640|\n",
            "|  60|    SP|  3|2021|         620|\n",
            "|  61|    SP|  6|2021|         619|\n",
            "|  62|    SP|  3|2021|         617|\n",
            "|  63|    SP|  3|2021|         616|\n",
            "|  64|    SP|  5|2021|         609|\n",
            "|  65|    SP|  3|2021|         599|\n",
            "|  66|    SP|  7|2021|         599|\n",
            "|  67|    SP|  7|2021|         590|\n",
            "|  68|    SP|  5|2021|         585|\n",
            "|  69|    SP|  5|2021|         583|\n",
            "|  70|    SP|  5|2021|         580|\n",
            "|  71|    SP|  5|2021|         578|\n",
            "|  72|    SP|  5|2021|         570|\n",
            "|  73|    SP|  5|2021|         559|\n",
            "|  74|    SP|  7|2021|         546|\n",
            "|  75|    SP|  6|2021|         543|\n",
            "|  76|    SP|  7|2021|         543|\n",
            "|  77|    SP|  6|2021|         538|\n",
            "|  78|    SP|  7|2021|         537|\n",
            "|  79|    SP|  7|2021|         532|\n",
            "|  80|    SP|  8|2021|         526|\n",
            "|  81|    SP|  3|2021|         521|\n",
            "|  82|    SP|  7|2021|         519|\n",
            "|  83|    SP|  3|2021|         517|\n",
            "|  84|    SP|  6|2021|         514|\n",
            "|  85|    SP|  4|2021|         510|\n",
            "|  86|    MG|  4|2021|         508|\n",
            "|  87|    SP|  5|2021|         502|\n",
            "|  88|    RS|  3|2021|         501|\n",
            "|  89|    MG|  4|2021|         493|\n",
            "|  90|    SP|  7|2021|         493|\n",
            "|  91|    MG|  4|2021|         492|\n",
            "|  92|    MG|  4|2021|         488|\n",
            "|  93|    MG|  4|2021|         486|\n",
            "|  94|    MG|  4|2021|         484|\n",
            "|  95|    SP|  7|2021|         483|\n",
            "|  96|    SP|  7|2021|         482|\n",
            "|  97|    SP|  5|2021|         480|\n",
            "|  98|    MG|  3|2021|         479|\n",
            "|  99|    PR|  6|2021|         475|\n",
            "| 100|    SP|  3|2021|         469|\n",
            "+----+------+---+----+------------+\n",
            "only showing top 100 rows\n",
            "\n"
          ]
        }
      ]
    },
    {
      "cell_type": "code",
      "metadata": {
        "id": "BDD7xZtI6Gg-",
        "colab": {
          "base_uri": "https://localhost:8080/"
        },
        "outputId": "56297cfd-3e9c-4839-9681-beb7c109467f"
      },
      "source": [
        "#24 SALVANDO O ARQUIVO NORMALIZADO NO BUCKET\n",
        "\n",
        "(df2.write.format(\"csv\").option(\"header\", \"true\")\n",
        "                        .option(\"inferschema\", \"true\")\n",
        "                        .option(\"delimiter\", \",\")\n",
        "                        .save(\"casos-covid_pyspark_\"))\n",
        "\n",
        "!gsutil cp -r casos-covid_pyspark_ gs://notebooks_pyspark_sql_gp03"
      ],
      "execution_count": null,
      "outputs": [
        {
          "output_type": "stream",
          "name": "stdout",
          "text": [
            "Copying file://casos-covid_pyspark_/.part-00000-2306826b-e486-4e90-9219-a2472a4cbf82-c000.csv.crc [Content-Type=application/octet-stream]...\n",
            "Copying file://casos-covid_pyspark_/part-00000-2306826b-e486-4e90-9219-a2472a4cbf82-c000.csv [Content-Type=text/csv]...\n",
            "Copying file://casos-covid_pyspark_/._SUCCESS.crc [Content-Type=application/octet-stream]...\n",
            "Copying file://casos-covid_pyspark_/_SUCCESS [Content-Type=application/octet-stream]...\n",
            "\\ [4 files][871.8 KiB/871.8 KiB]                                                \n",
            "Operation completed over 4 objects/871.8 KiB.                                    \n"
          ]
        }
      ]
    },
    {
      "cell_type": "code",
      "metadata": {
        "colab": {
          "base_uri": "https://localhost:8080/"
        },
        "id": "hnTrSRJ5WASL",
        "outputId": "5bd10bf1-5e55-4434-f56c-4d2e34bcc903"
      },
      "source": [
        "#25 CARREGA ARQUIVO\n",
        "!gsutil cp gs://notebooks_pyspark_sql_gp03/casos-covid_pyspark_/part-00000-2306826b-e486-4e90-9219-a2472a4cbf82-c000.csv /tmp/casos-covid_pyspark.csv\n",
        "\n",
        "df = spark.read.csv('/tmp/casos-covid_pyspark.csv', header=True, sep=\",\")\n",
        "# REGISTRA UMA TABELA TEMPORÁRIA\n",
        "df.createOrReplaceTempView(\"temp\")\n",
        "# SELECIONA TODOS OS DADOS DA TABELA TEMPORÁRIA\n",
        "spark.sql(\"select * from temp limit 5\").show()\n",
        "# Select count of data in table\n",
        "spark.sql(\"select count(*) as total_count from temp\").show()\n",
        "\n",
        "# CARREGA ARQUIVO\n",
        "!gsutil cp gs://notebooks_pyspark_sql_gp03/pedagio_pyspark/part-00000-b847fefe-675e-4a0e-9424-246331a9e024-c000.csv /tmp/pedagio_pyspark.csv\n",
        "\n",
        "df = spark.read.csv('/tmp/pedagio_pyspark.csv', header=True, sep=\",\")\n"
      ],
      "execution_count": null,
      "outputs": [
        {
          "output_type": "stream",
          "name": "stdout",
          "text": [
            "Copying gs://notebooks_pyspark_sql_gp03/casos-covid_pyspark_/part-00000-2306826b-e486-4e90-9219-a2472a4cbf82-c000.csv...\n",
            "/ [1 files][865.0 KiB/865.0 KiB]                                                \n",
            "Operation completed over 1 objects/865.0 KiB.                                    \n",
            "+----------+------+------------+------+-----------+--------------+-------+---+----+----+\n",
            "|      Data|Estado|Novas_Mortes|Mortes|Novos_Casos|Total_De_Casos| Regiao|Mes| Ano|RANK|\n",
            "+----------+------+------------+------+-----------+--------------+-------+---+----+----+\n",
            "|2021-04-06|    SP|        1389| 78554|      22794|       2554841|Sudeste|  4|2021|   1|\n",
            "|2021-04-08|    SP|        1299| 80742|      21004|       2597366|Sudeste|  4|2021|   2|\n",
            "|2021-04-13|    SP|        1282| 84380|      18397|       2667241|Sudeste|  4|2021|   3|\n",
            "|2021-03-30|    SP|        1209| 73492|      21360|       2446680|Sudeste|  3|2021|   4|\n",
            "|2021-03-26|    SP|        1193| 70696|      21489|       2392374|Sudeste|  3|2021|   5|\n",
            "+----------+------+------------+------+-----------+--------------+-------+---+----+----+\n",
            "\n",
            "+-----------+\n",
            "|total_count|\n",
            "+-----------+\n",
            "|      16737|\n",
            "+-----------+\n",
            "\n"
          ]
        }
      ]
    },
    {
      "cell_type": "code",
      "metadata": {
        "colab": {
          "base_uri": "https://localhost:8080/"
        },
        "id": "npEoOnZKXUNc",
        "outputId": "f5abdd3c-99cd-4fc0-824d-37f94e55602d"
      },
      "source": [
        "#26 SOMA NÚMERO DE NOVOS CASOS POR MÊS DE JANEIRO A SETEMBRO EM 2020\n",
        "\n",
        "spark.sql(\"SELECT Mes, SUM(Novos_Casos) AS totalNovosCasos_2020 FROM temp WHERE ano = 2020 AND Mes BETWEEN 2 AND 9 GROUP BY Mes ORDER BY Mes ASC\").show()\n"
      ],
      "execution_count": null,
      "outputs": [
        {
          "output_type": "stream",
          "name": "stdout",
          "text": [
            "+---+--------------------+\n",
            "|Mes|totalNovosCasos_2020|\n",
            "+---+--------------------+\n",
            "|  2|                 2.0|\n",
            "|  3|              5822.0|\n",
            "|  4|             81302.0|\n",
            "|  5|            429011.0|\n",
            "|  6|            896532.0|\n",
            "|  7|           1257782.0|\n",
            "|  8|           1244378.0|\n",
            "|  9|            902536.0|\n",
            "+---+--------------------+\n",
            "\n"
          ]
        }
      ]
    },
    {
      "cell_type": "code",
      "metadata": {
        "colab": {
          "base_uri": "https://localhost:8080/"
        },
        "id": "rujlnHm1clMv",
        "outputId": "6279df1b-c8e1-4b79-cc87-4053b3a07dff"
      },
      "source": [
        "#27 TOTAL DE NOVOS CASOS POR ANO\n",
        "\n",
        "spark.sql(\"SELECT Estado, SUM(Novos_Casos) AS totalNovosCasos_2020 FROM temp WHERE ano = 2020 GROUP BY Estado ORDER BY Estado\").show(27)\n",
        "spark.sql(\"SELECT Estado, SUM(Novos_Casos) AS totalNovosCasos_2021 FROM temp WHERE ano = 2021 GROUP BY Estado ORDER BY Estado\").show(27)"
      ],
      "execution_count": null,
      "outputs": [
        {
          "output_type": "stream",
          "name": "stdout",
          "text": [
            "+------+--------------------+\n",
            "|Estado|totalNovosCasos_2020|\n",
            "+------+--------------------+\n",
            "|    AC|             41620.0|\n",
            "|    AL|            104818.0|\n",
            "|    AM|            201013.0|\n",
            "|    AP|             68201.0|\n",
            "|    BA|            493400.0|\n",
            "|    CE|            335992.0|\n",
            "|    DF|            251701.0|\n",
            "|    ES|            248251.0|\n",
            "|    GO|            309110.0|\n",
            "|    MA|            200938.0|\n",
            "|    MG|            542909.0|\n",
            "|    MS|            134750.0|\n",
            "|    MT|            180451.0|\n",
            "|    PA|            293802.0|\n",
            "|    PB|            166484.0|\n",
            "|    PE|            222166.0|\n",
            "|    PI|            143179.0|\n",
            "|    PR|            416566.0|\n",
            "|    RJ|            434648.0|\n",
            "|    RN|            118999.0|\n",
            "|    RO|             95729.0|\n",
            "|    RR|             68710.0|\n",
            "|    RS|            449674.0|\n",
            "|    SC|            492583.0|\n",
            "|    SE|            112505.0|\n",
            "|    SP|           1462297.0|\n",
            "|    TO|             90536.0|\n",
            "+------+--------------------+\n",
            "\n",
            "+------+--------------------+\n",
            "|Estado|totalNovosCasos_2021|\n",
            "+------+--------------------+\n",
            "|    AC|             46517.0|\n",
            "|    AL|            136419.0|\n",
            "|    AM|            228108.0|\n",
            "|    AP|             56083.0|\n",
            "|    BA|            762081.0|\n",
            "|    CE|            613136.0|\n",
            "|    DF|            265408.0|\n",
            "|    ES|            368162.0|\n",
            "|    GO|            617383.0|\n",
            "|    MA|            162729.0|\n",
            "|    MG|           1659437.0|\n",
            "|    MS|            243186.0|\n",
            "|    MT|            370752.0|\n",
            "|    PA|            310649.0|\n",
            "|    PB|            292584.0|\n",
            "|    PE|            415400.0|\n",
            "|    PI|            186696.0|\n",
            "|    PR|           1156429.0|\n",
            "|    RJ|            903157.0|\n",
            "|    RN|            260401.0|\n",
            "|    RO|            179307.0|\n",
            "|    RR|             59439.0|\n",
            "|    RS|           1035201.0|\n",
            "|    SC|            735947.0|\n",
            "|    SE|            166186.0|\n",
            "|    SP|           2968680.0|\n",
            "|    TO|            140756.0|\n",
            "+------+--------------------+\n",
            "\n"
          ]
        }
      ]
    },
    {
      "cell_type": "code",
      "metadata": {
        "id": "K1v2RxFXPq26"
      },
      "source": [
        ""
      ],
      "execution_count": null,
      "outputs": []
    }
  ]
}
