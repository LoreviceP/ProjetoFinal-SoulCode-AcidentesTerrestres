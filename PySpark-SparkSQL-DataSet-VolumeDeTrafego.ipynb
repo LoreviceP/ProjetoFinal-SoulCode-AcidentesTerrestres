{
  "nbformat": 4,
  "nbformat_minor": 0,
  "metadata": {
    "colab": {
      "name": "Projeto_Final_G03_PySpark/SparkSQL_Pedágio.ipynb",
      "provenance": [],
      "collapsed_sections": [],
      "include_colab_link": true
    },
    "kernelspec": {
      "name": "python3",
      "display_name": "Python 3"
    },
    "language_info": {
      "name": "python"
    }
  },
  "cells": [
    {
      "cell_type": "markdown",
      "metadata": {
        "id": "view-in-github",
        "colab_type": "text"
      },
      "source": [
        "<a href=\"https://colab.research.google.com/github/Isiumlord/ProjetoFinal-AcidentesTerrestres/blob/main/DataSet-VolumeDeTrafego-PySpark-SparkSQL.ipynb\" target=\"_parent\"><img src=\"https://colab.research.google.com/assets/colab-badge.svg\" alt=\"Open In Colab\"/></a>"
      ]
    },
    {
      "cell_type": "code",
      "metadata": {
        "colab": {
          "base_uri": "https://localhost:8080/"
        },
        "id": "t0T6sUjSMZ2h",
        "outputId": "08e00d75-6cdf-49b6-d6cc-2e1f53370b3f"
      },
      "source": [
        "# 1 - INSTALANDO O PYSPARK\n",
        "\n",
        "!pip install pyspark"
      ],
      "execution_count": null,
      "outputs": [
        {
          "output_type": "stream",
          "name": "stdout",
          "text": [
            "Requirement already satisfied: pyspark in /usr/local/lib/python3.7/dist-packages (3.2.0)\n",
            "Requirement already satisfied: py4j==0.10.9.2 in /usr/local/lib/python3.7/dist-packages (from pyspark) (0.10.9.2)\n"
          ]
        }
      ]
    },
    {
      "cell_type": "code",
      "metadata": {
        "id": "KXOdBfkxM7DP"
      },
      "source": [
        "# 2 - IMPORTANDO O PYSPARK E A BIBLIOTECA DE FUNÇÕES DO PYSPARK\n",
        "\n",
        "from pyspark.sql import SparkSession\n",
        "import pyspark.sql.functions as F\n",
        "from pyspark.sql.types import StructType, StructField, StringType, IntegerType\n",
        "from pyspark.sql.functions import col, udf\n",
        "from pyspark.sql.types import DateType\n",
        "from pyspark.sql.window import Window"
      ],
      "execution_count": null,
      "outputs": []
    },
    {
      "cell_type": "code",
      "metadata": {
        "id": "g3yrU8pnQOnC"
      },
      "source": [
        "# 3 - AUTENTICAÇÃO DA GCP\n",
        "\n",
        "from google.colab import auth\n",
        "auth.authenticate_user()"
      ],
      "execution_count": null,
      "outputs": []
    },
    {
      "cell_type": "code",
      "metadata": {
        "colab": {
          "base_uri": "https://localhost:8080/"
        },
        "id": "_8Tr6bBtRP37",
        "outputId": "6ea95173-1cd1-48de-fe17-64d9f5e313a8"
      },
      "source": [
        "# 3 - SELECIONANDO O PROJETO - IMPORTANDO DIRETO DA BUCKET\n",
        "\n",
        "project_id = 'projeto-final-grupo03'\n",
        "!gcloud config set project projeto-final-grupo03"
      ],
      "execution_count": null,
      "outputs": [
        {
          "output_type": "stream",
          "name": "stdout",
          "text": [
            "Updated property [core/project].\n"
          ]
        }
      ]
    },
    {
      "cell_type": "code",
      "metadata": {
        "colab": {
          "base_uri": "https://localhost:8080/"
        },
        "id": "N2QimMAjRX7W",
        "outputId": "dedeb46d-29f6-4242-a970-fb0a3c2bdfe9"
      },
      "source": [
        "# 4 - FAZENDO DOWLOAD DO DOCUMENTO QUE SERÁ UTILIZADO - !gsutil cp gs://NomeDaBucket/NomeDoDocumento /tmp/NomeDoDocumento.csv\n",
        "\n",
        "!gsutil cp gs://notebooks_pandas_gp03/pedagio_tratado.csv /tmp/pedagio_tratado.csv"
      ],
      "execution_count": null,
      "outputs": [
        {
          "output_type": "stream",
          "name": "stdout",
          "text": [
            "Copying gs://notebooks_pandas_gp03/pedagio_tratado.csv...\n",
            "- [1 files][  4.0 MiB/  4.0 MiB]                                                \n",
            "Operation completed over 1 objects/4.0 MiB.                                      \n"
          ]
        }
      ]
    },
    {
      "cell_type": "code",
      "metadata": {
        "id": "sKo5NgCwR2Fw"
      },
      "source": [
        "#CONSULTAR PARA VER SE A TRANSFERÊNCIA FUNCIONOU\n",
        "\n",
        "#!cat /tmp/pedagio_tratado.csv"
      ],
      "execution_count": null,
      "outputs": []
    },
    {
      "cell_type": "code",
      "metadata": {
        "id": "yO3LZYG9QHSf"
      },
      "source": [
        "# 5 - CONFIGURANDO A SPARKSESSION\n",
        "\n",
        "spark = (SparkSession.builder\n",
        "        .master(\"local\")                   \n",
        "        .appName(\"aprendendo-dataframes\") \n",
        "        .config(\"spark.ui.port\", \"4050\")\n",
        "        .getOrCreate()) "
      ],
      "execution_count": null,
      "outputs": []
    },
    {
      "cell_type": "code",
      "metadata": {
        "colab": {
          "base_uri": "https://localhost:8080/",
          "height": 219
        },
        "id": "SN1HKf_cQKMw",
        "outputId": "c4d88492-fbb0-4e95-8974-3bf7e13b66b2"
      },
      "source": [
        "# CONSULTAR SE O SPARK ESTÁ INSTALADO\n",
        "\n",
        "spark"
      ],
      "execution_count": null,
      "outputs": [
        {
          "output_type": "execute_result",
          "data": {
            "text/html": [
              "\n",
              "            <div>\n",
              "                <p><b>SparkSession - in-memory</b></p>\n",
              "                \n",
              "        <div>\n",
              "            <p><b>SparkContext</b></p>\n",
              "\n",
              "            <p><a href=\"http://d0c5bc8aa862:4050\">Spark UI</a></p>\n",
              "\n",
              "            <dl>\n",
              "              <dt>Version</dt>\n",
              "                <dd><code>v3.2.0</code></dd>\n",
              "              <dt>Master</dt>\n",
              "                <dd><code>local</code></dd>\n",
              "              <dt>AppName</dt>\n",
              "                <dd><code>aprendendo-dataframes</code></dd>\n",
              "            </dl>\n",
              "        </div>\n",
              "        \n",
              "            </div>\n",
              "        "
            ],
            "text/plain": [
              "<pyspark.sql.session.SparkSession at 0x7f13bdf99550>"
            ]
          },
          "metadata": {},
          "execution_count": 10
        }
      ]
    },
    {
      "cell_type": "code",
      "metadata": {
        "id": "3jMDkpsiUMKt"
      },
      "source": [
        "# 6 - ESTRUTURA DO DATAFRAME\n",
        "\n",
        "df = (spark\n",
        "       .read\n",
        "       .format(\"csv\")\n",
        "       .option(\"header\", \"true\")\n",
        "       .option(\"inferschema\", \"true\")\n",
        "       .option(\"delimiter\", \",\")\n",
        "       .load(\"/tmp/pedagio_tratado.csv\")\n",
        ")"
      ],
      "execution_count": null,
      "outputs": []
    },
    {
      "cell_type": "code",
      "metadata": {
        "colab": {
          "base_uri": "https://localhost:8080/"
        },
        "id": "J5vzE9PXUXdw",
        "outputId": "57a87159-3975-4b08-f3ba-784afbe80dfd"
      },
      "source": [
        "# 7 - VISUALIZANDO SCHEMA DO DATAFRAME E O TYPES DOS DADOS (STRING, INT, FLOAT)\n",
        "\n",
        "df.printSchema()"
      ],
      "execution_count": null,
      "outputs": [
        {
          "output_type": "stream",
          "name": "stdout",
          "text": [
            "root\n",
            " |-- _c0: integer (nullable = true)\n",
            " |-- Concessionaria: string (nullable = true)\n",
            " |-- Data: string (nullable = true)\n",
            " |-- Sentido: string (nullable = true)\n",
            " |-- Tipo_de_veiculo: string (nullable = true)\n",
            " |-- Volume_total: double (nullable = true)\n",
            " |-- BR: string (nullable = true)\n",
            " |-- UF: string (nullable = true)\n",
            "\n"
          ]
        }
      ]
    },
    {
      "cell_type": "code",
      "metadata": {
        "colab": {
          "base_uri": "https://localhost:8080/"
        },
        "id": "8CqTAzRkUc7j",
        "outputId": "d5916887-b876-41f8-e532-1356f8e3978a"
      },
      "source": [
        "#VISUALIZANDO O DATAFRAME\n",
        "\n",
        "df.show()"
      ],
      "execution_count": null,
      "outputs": [
        {
          "output_type": "stream",
          "name": "stdout",
          "text": [
            "+---+--------------+----------+-------+---------------+------------+------+---+\n",
            "|_c0|Concessionaria|      Data|Sentido|Tipo_de_veiculo|Volume_total|    BR| UF|\n",
            "+---+--------------+----------+-------+---------------+------------+------+---+\n",
            "|  0|     NOVADUTRA|2019-01-01|    Sul|        Passeio|    640429.0|BR-116| SP|\n",
            "|  1|     NOVADUTRA|2019-01-01|  Norte|        Passeio|    787419.0|BR-116| SP|\n",
            "|  2|     NOVADUTRA|2019-02-01|    Sul|        Passeio|    511718.0|BR-116| SP|\n",
            "|  3|     NOVADUTRA|2019-02-01|  Norte|        Passeio|    638796.0|BR-116| SP|\n",
            "|  4|     NOVADUTRA|2019-03-01|    Sul|        Passeio|    579422.0|BR-116| SP|\n",
            "|  5|     NOVADUTRA|2019-03-01|  Norte|        Passeio|    719487.0|BR-116| SP|\n",
            "|  6|     NOVADUTRA|2019-04-01|    Sul|        Passeio|    574518.0|BR-116| SP|\n",
            "|  7|     NOVADUTRA|2019-04-01|  Norte|        Passeio|    710563.0|BR-116| SP|\n",
            "|  8|     NOVADUTRA|2019-05-01|    Sul|        Passeio|    574429.0|BR-116| SP|\n",
            "|  9|     NOVADUTRA|2019-05-01|  Norte|        Passeio|    727950.0|BR-116| SP|\n",
            "| 10|     NOVADUTRA|2019-06-01|    Sul|        Passeio|    578495.0|BR-116| SP|\n",
            "| 11|     NOVADUTRA|2019-06-01|  Norte|        Passeio|    749546.0|BR-116| SP|\n",
            "| 12|     NOVADUTRA|2019-07-01|    Sul|        Passeio|    611979.0|BR-116| SP|\n",
            "| 13|     NOVADUTRA|2019-07-01|  Norte|        Passeio|    816003.0|BR-116| SP|\n",
            "| 14|     NOVADUTRA|2019-08-01|    Sul|        Passeio|    580340.0|BR-116| SP|\n",
            "| 15|     NOVADUTRA|2019-08-01|  Norte|        Passeio|    810908.0|BR-116| SP|\n",
            "| 16|     NOVADUTRA|2019-09-01|    Sul|        Passeio|    582265.0|BR-116| SP|\n",
            "| 17|     NOVADUTRA|2019-09-01|  Norte|        Passeio|    797482.0|BR-116| SP|\n",
            "| 18|     NOVADUTRA|2019-10-01|    Sul|        Passeio|    613364.0|BR-116| SP|\n",
            "| 19|     NOVADUTRA|2019-10-01|  Norte|        Passeio|    851384.0|BR-116| SP|\n",
            "+---+--------------+----------+-------+---------------+------------+------+---+\n",
            "only showing top 20 rows\n",
            "\n"
          ]
        }
      ]
    },
    {
      "cell_type": "code",
      "metadata": {
        "id": "chKBi8mIQVFY"
      },
      "source": [
        "# 8 - MUDAR O TIPO DE DATA PARA DATE COM  CAST\n",
        "\n",
        "df = df.withColumn(\"Data\", df.Data.cast(\"date\"))"
      ],
      "execution_count": null,
      "outputs": []
    },
    {
      "cell_type": "code",
      "metadata": {
        "colab": {
          "base_uri": "https://localhost:8080/"
        },
        "id": "7VCpgBLTYxcc",
        "outputId": "a5cda11b-6ad6-44c0-dae8-bee461707e20"
      },
      "source": [
        "# 9 - VISUALIZANDO SCHEMA DO DATAFRAME PARA VER SE A MUDANÇA DA COLUNA \"Data\" DEU CERTO\n",
        "\n",
        "df.printSchema()"
      ],
      "execution_count": null,
      "outputs": [
        {
          "output_type": "stream",
          "name": "stdout",
          "text": [
            "root\n",
            " |-- _c0: integer (nullable = true)\n",
            " |-- Concessionaria: string (nullable = true)\n",
            " |-- Data: date (nullable = true)\n",
            " |-- Sentido: string (nullable = true)\n",
            " |-- Tipo_de_veiculo: string (nullable = true)\n",
            " |-- Volume_total: double (nullable = true)\n",
            " |-- BR: string (nullable = true)\n",
            " |-- UF: string (nullable = true)\n",
            "\n"
          ]
        }
      ]
    },
    {
      "cell_type": "code",
      "metadata": {
        "colab": {
          "base_uri": "https://localhost:8080/"
        },
        "id": "IMyjLeL8JGQ2",
        "outputId": "ee0c85c5-86b5-4e7c-f13a-f6dd36cd801b"
      },
      "source": [
        "df.show()"
      ],
      "execution_count": null,
      "outputs": [
        {
          "output_type": "stream",
          "name": "stdout",
          "text": [
            "+---+--------------+----------+-------+---------------+------------+------+---+\n",
            "|_c0|Concessionaria|      Data|Sentido|Tipo_de_veiculo|Volume_total|    BR| UF|\n",
            "+---+--------------+----------+-------+---------------+------------+------+---+\n",
            "|  0|     NOVADUTRA|2019-01-01|    Sul|        Passeio|    640429.0|BR-116| SP|\n",
            "|  1|     NOVADUTRA|2019-01-01|  Norte|        Passeio|    787419.0|BR-116| SP|\n",
            "|  2|     NOVADUTRA|2019-02-01|    Sul|        Passeio|    511718.0|BR-116| SP|\n",
            "|  3|     NOVADUTRA|2019-02-01|  Norte|        Passeio|    638796.0|BR-116| SP|\n",
            "|  4|     NOVADUTRA|2019-03-01|    Sul|        Passeio|    579422.0|BR-116| SP|\n",
            "|  5|     NOVADUTRA|2019-03-01|  Norte|        Passeio|    719487.0|BR-116| SP|\n",
            "|  6|     NOVADUTRA|2019-04-01|    Sul|        Passeio|    574518.0|BR-116| SP|\n",
            "|  7|     NOVADUTRA|2019-04-01|  Norte|        Passeio|    710563.0|BR-116| SP|\n",
            "|  8|     NOVADUTRA|2019-05-01|    Sul|        Passeio|    574429.0|BR-116| SP|\n",
            "|  9|     NOVADUTRA|2019-05-01|  Norte|        Passeio|    727950.0|BR-116| SP|\n",
            "| 10|     NOVADUTRA|2019-06-01|    Sul|        Passeio|    578495.0|BR-116| SP|\n",
            "| 11|     NOVADUTRA|2019-06-01|  Norte|        Passeio|    749546.0|BR-116| SP|\n",
            "| 12|     NOVADUTRA|2019-07-01|    Sul|        Passeio|    611979.0|BR-116| SP|\n",
            "| 13|     NOVADUTRA|2019-07-01|  Norte|        Passeio|    816003.0|BR-116| SP|\n",
            "| 14|     NOVADUTRA|2019-08-01|    Sul|        Passeio|    580340.0|BR-116| SP|\n",
            "| 15|     NOVADUTRA|2019-08-01|  Norte|        Passeio|    810908.0|BR-116| SP|\n",
            "| 16|     NOVADUTRA|2019-09-01|    Sul|        Passeio|    582265.0|BR-116| SP|\n",
            "| 17|     NOVADUTRA|2019-09-01|  Norte|        Passeio|    797482.0|BR-116| SP|\n",
            "| 18|     NOVADUTRA|2019-10-01|    Sul|        Passeio|    613364.0|BR-116| SP|\n",
            "| 19|     NOVADUTRA|2019-10-01|  Norte|        Passeio|    851384.0|BR-116| SP|\n",
            "+---+--------------+----------+-------+---------------+------------+------+---+\n",
            "only showing top 20 rows\n",
            "\n"
          ]
        }
      ]
    },
    {
      "cell_type": "code",
      "metadata": {
        "id": "hRMzLXPDJha5"
      },
      "source": [
        "# 10 - RENOMEAR COLUNA COMO ID\n",
        "\n",
        "df = df.withColumnRenamed('_c0', 'ID')"
      ],
      "execution_count": null,
      "outputs": []
    },
    {
      "cell_type": "code",
      "metadata": {
        "colab": {
          "base_uri": "https://localhost:8080/"
        },
        "id": "cqMp_RRLON-p",
        "outputId": "d8abe400-8edc-42d6-900b-3ed89f27b654"
      },
      "source": [
        "df.printSchema()"
      ],
      "execution_count": null,
      "outputs": [
        {
          "output_type": "stream",
          "name": "stdout",
          "text": [
            "root\n",
            " |-- ID: integer (nullable = true)\n",
            " |-- Concessionaria: string (nullable = true)\n",
            " |-- Data: date (nullable = true)\n",
            " |-- Sentido: string (nullable = true)\n",
            " |-- Tipo_de_veiculo: string (nullable = true)\n",
            " |-- Volume_total: double (nullable = true)\n",
            " |-- BR: string (nullable = true)\n",
            " |-- UF: string (nullable = true)\n",
            "\n"
          ]
        }
      ]
    },
    {
      "cell_type": "code",
      "metadata": {
        "id": "aNbZ23O_bagA",
        "colab": {
          "base_uri": "https://localhost:8080/"
        },
        "outputId": "c516ab8c-6105-4d75-f80b-623cfd82d66d"
      },
      "source": [
        "# 11 - FILTRO PARA IDENTIFICAR COLUNAS COM DADOS NULOS RELEVANTES OU NÃO\n",
        "\n",
        "#TEM DADOS NULOS\n",
        "\n",
        "df.filter(F.isnull(\"BR\")).show()\n",
        "df.filter(F.isnull(\"Volume_Total\")).show()\n",
        "df.filter(F.isnull(\"UF\")).show()\n",
        "\n",
        "#NÃO TEM DADOS NULOS\n",
        "\n",
        "df.filter(F.isnull(\"ID\")).show()\n",
        "df.filter(F.isnull(\"Concessionaria\")).show()\n",
        "df.filter(F.isnull(\"Data\")).show()\n",
        "df.filter(F.isnull(\"Tipo_de_Veiculo\")).show()"
      ],
      "execution_count": null,
      "outputs": [
        {
          "output_type": "stream",
          "name": "stdout",
          "text": [
            "+-----+--------------+----------+-------+---------------+------------+----+----+\n",
            "|   ID|Concessionaria|      Data|Sentido|Tipo_de_veiculo|Volume_total|  BR|  UF|\n",
            "+-----+--------------+----------+-------+---------------+------------+----+----+\n",
            "|11004|RODOVIA DO AÇO|2019-01-01|    Sul|        Passeio|     45447.0|null|null|\n",
            "|11005|RODOVIA DO AÇO|2019-01-01|  Norte|        Passeio|     37274.0|null|null|\n",
            "|11006|RODOVIA DO AÇO|2019-02-01|    Sul|        Passeio|     27600.0|null|null|\n",
            "|11007|RODOVIA DO AÇO|2019-02-01|  Norte|        Passeio|     27451.0|null|null|\n",
            "|11008|RODOVIA DO AÇO|2019-03-01|    Sul|        Passeio|     33070.0|null|null|\n",
            "|11009|RODOVIA DO AÇO|2019-03-01|  Norte|        Passeio|     32882.0|null|null|\n",
            "|11010|RODOVIA DO AÇO|2019-04-01|    Sul|        Passeio|     32347.0|null|null|\n",
            "|11011|RODOVIA DO AÇO|2019-04-01|  Norte|        Passeio|     32413.0|null|null|\n",
            "|11012|RODOVIA DO AÇO|2019-05-01|    Sul|        Passeio|     29652.0|null|null|\n",
            "|11013|RODOVIA DO AÇO|2019-05-01|  Norte|        Passeio|     30022.0|null|null|\n",
            "|11014|RODOVIA DO AÇO|2019-06-01|    Sul|        Passeio|     30400.0|null|null|\n",
            "|11015|RODOVIA DO AÇO|2019-06-01|  Norte|        Passeio|     32068.0|null|null|\n",
            "|11016|RODOVIA DO AÇO|2019-07-01|    Sul|        Passeio|     38837.0|null|null|\n",
            "|11017|RODOVIA DO AÇO|2019-07-01|  Norte|        Passeio|     37906.0|null|null|\n",
            "|11018|RODOVIA DO AÇO|2019-08-01|    Sul|        Passeio|     31395.0|null|null|\n",
            "|11019|RODOVIA DO AÇO|2019-08-01|  Norte|        Passeio|     31093.0|null|null|\n",
            "|11020|RODOVIA DO AÇO|2019-09-01|    Sul|        Passeio|     31376.0|null|null|\n",
            "|11021|RODOVIA DO AÇO|2019-09-01|  Norte|        Passeio|     31097.0|null|null|\n",
            "|11022|RODOVIA DO AÇO|2019-10-01|    Sul|        Passeio|     31623.0|null|null|\n",
            "|11023|RODOVIA DO AÇO|2019-10-01|  Norte|        Passeio|     31581.0|null|null|\n",
            "+-----+--------------+----------+-------+---------------+------------+----+----+\n",
            "only showing top 20 rows\n",
            "\n",
            "+-----+--------------+----------+-------+---------------+------------+------+---+\n",
            "|   ID|Concessionaria|      Data|Sentido|Tipo_de_veiculo|Volume_total|    BR| UF|\n",
            "+-----+--------------+----------+-------+---------------+------------+------+---+\n",
            "|15715|        ECO050|2019-04-01|  Norte|      Comercial|        null|BR-050| GO|\n",
            "|15717|        ECO050|2019-05-01|  Norte|      Comercial|        null|BR-050| GO|\n",
            "|15739|        ECO050|2019-04-01|  Norte|      Comercial|        null|BR-050| GO|\n",
            "|15741|        ECO050|2019-05-01|  Norte|      Comercial|        null|BR-050| GO|\n",
            "|17060|        ECO050|2019-05-01|    Sul|      Comercial|        null|BR-050| MG|\n",
            "|21444|           CRO|2019-01-01|  Norte|      Comercial|        null|BR-163| MT|\n",
            "|21445|           CRO|2019-01-01|    Sul|      Comercial|        null|BR-163| MT|\n",
            "|21446|           CRO|2019-02-01|  Norte|      Comercial|        null|BR-163| MT|\n",
            "|21447|           CRO|2019-02-01|    Sul|      Comercial|        null|BR-163| MT|\n",
            "|21448|           CRO|2019-03-01|  Norte|      Comercial|        null|BR-163| MT|\n",
            "|21449|           CRO|2019-03-01|    Sul|      Comercial|        null|BR-163| MT|\n",
            "|21450|           CRO|2019-04-01|  Norte|      Comercial|        null|BR-163| MT|\n",
            "|21451|           CRO|2019-04-01|    Sul|      Comercial|        null|BR-163| MT|\n",
            "|21452|           CRO|2019-05-01|  Norte|      Comercial|        null|BR-163| MT|\n",
            "|21453|           CRO|2019-05-01|    Sul|      Comercial|        null|BR-163| MT|\n",
            "|21454|           CRO|2019-06-01|  Norte|      Comercial|        null|BR-163| MT|\n",
            "|21455|           CRO|2019-06-01|    Sul|      Comercial|        null|BR-163| MT|\n",
            "|21456|           CRO|2019-07-01|  Norte|      Comercial|        null|BR-163| MT|\n",
            "|21457|           CRO|2019-07-01|    Sul|      Comercial|        null|BR-163| MT|\n",
            "|21458|           CRO|2019-08-01|  Norte|      Comercial|        null|BR-163| MT|\n",
            "+-----+--------------+----------+-------+---------------+------------+------+---+\n",
            "only showing top 20 rows\n",
            "\n",
            "+----+--------------+----------+-------+---------------+------------+--------+----+\n",
            "|  ID|Concessionaria|      Data|Sentido|Tipo_de_veiculo|Volume_total|      BR|  UF|\n",
            "+----+--------------+----------+-------+---------------+------------+--------+----+\n",
            "|2028|     NOVADUTRA|2019-01-01|    Sul|        Passeio|     30388.0|BLOQUEIO|null|\n",
            "|2029|     NOVADUTRA|2019-01-01|  Norte|        Passeio|     43686.0|BLOQUEIO|null|\n",
            "|2030|     NOVADUTRA|2019-02-01|    Sul|        Passeio|     22050.0|BLOQUEIO|null|\n",
            "|2031|     NOVADUTRA|2019-02-01|  Norte|        Passeio|     33202.0|BLOQUEIO|null|\n",
            "|2032|     NOVADUTRA|2019-03-01|    Sul|        Passeio|     25936.0|BLOQUEIO|null|\n",
            "|2033|     NOVADUTRA|2019-03-01|  Norte|        Passeio|     38854.0|BLOQUEIO|null|\n",
            "|2034|     NOVADUTRA|2019-04-01|    Sul|        Passeio|     24384.0|BLOQUEIO|null|\n",
            "|2035|     NOVADUTRA|2019-04-01|  Norte|        Passeio|     36482.0|BLOQUEIO|null|\n",
            "|2036|     NOVADUTRA|2019-05-01|    Sul|        Passeio|     24269.0|BLOQUEIO|null|\n",
            "|2037|     NOVADUTRA|2019-05-01|  Norte|        Passeio|     37090.0|BLOQUEIO|null|\n",
            "|2038|     NOVADUTRA|2019-06-01|    Sul|        Passeio|     25402.0|BLOQUEIO|null|\n",
            "|2039|     NOVADUTRA|2019-06-01|  Norte|        Passeio|     38891.0|BLOQUEIO|null|\n",
            "|2040|     NOVADUTRA|2019-07-01|    Sul|        Passeio|     29446.0|BLOQUEIO|null|\n",
            "|2041|     NOVADUTRA|2019-07-01|  Norte|        Passeio|     43446.0|BLOQUEIO|null|\n",
            "|2042|     NOVADUTRA|2019-08-01|    Sul|        Passeio|     26408.0|BLOQUEIO|null|\n",
            "|2043|     NOVADUTRA|2019-08-01|  Norte|        Passeio|     40171.0|BLOQUEIO|null|\n",
            "|2044|     NOVADUTRA|2019-09-01|    Sul|        Passeio|     24475.0|BLOQUEIO|null|\n",
            "|2045|     NOVADUTRA|2019-09-01|  Norte|        Passeio|     39333.0|BLOQUEIO|null|\n",
            "|2046|     NOVADUTRA|2019-10-01|    Sul|        Passeio|     26044.0|BLOQUEIO|null|\n",
            "|2047|     NOVADUTRA|2019-10-01|  Norte|        Passeio|     41925.0|BLOQUEIO|null|\n",
            "+----+--------------+----------+-------+---------------+------------+--------+----+\n",
            "only showing top 20 rows\n",
            "\n",
            "+---+--------------+----+-------+---------------+------------+---+---+\n",
            "| ID|Concessionaria|Data|Sentido|Tipo_de_veiculo|Volume_total| BR| UF|\n",
            "+---+--------------+----+-------+---------------+------------+---+---+\n",
            "+---+--------------+----+-------+---------------+------------+---+---+\n",
            "\n",
            "+---+--------------+----+-------+---------------+------------+---+---+\n",
            "| ID|Concessionaria|Data|Sentido|Tipo_de_veiculo|Volume_total| BR| UF|\n",
            "+---+--------------+----+-------+---------------+------------+---+---+\n",
            "+---+--------------+----+-------+---------------+------------+---+---+\n",
            "\n",
            "+---+--------------+----+-------+---------------+------------+---+---+\n",
            "| ID|Concessionaria|Data|Sentido|Tipo_de_veiculo|Volume_total| BR| UF|\n",
            "+---+--------------+----+-------+---------------+------------+---+---+\n",
            "+---+--------------+----+-------+---------------+------------+---+---+\n",
            "\n",
            "+---+--------------+----+-------+---------------+------------+---+---+\n",
            "| ID|Concessionaria|Data|Sentido|Tipo_de_veiculo|Volume_total| BR| UF|\n",
            "+---+--------------+----+-------+---------------+------------+---+---+\n",
            "+---+--------------+----+-------+---------------+------------+---+---+\n",
            "\n"
          ]
        }
      ]
    },
    {
      "cell_type": "code",
      "metadata": {
        "colab": {
          "base_uri": "https://localhost:8080/"
        },
        "id": "T4hVjL6oOSVV",
        "outputId": "c5dd38ac-200b-4be8-90c9-faa92cc00337"
      },
      "source": [
        "df.printSchema()"
      ],
      "execution_count": null,
      "outputs": [
        {
          "output_type": "stream",
          "name": "stdout",
          "text": [
            "root\n",
            " |-- ID: integer (nullable = true)\n",
            " |-- Concessionaria: string (nullable = true)\n",
            " |-- Data: date (nullable = true)\n",
            " |-- Sentido: string (nullable = true)\n",
            " |-- Tipo_de_veiculo: string (nullable = true)\n",
            " |-- Volume_total: double (nullable = true)\n",
            " |-- BR: string (nullable = true)\n",
            " |-- UF: string (nullable = true)\n",
            "\n"
          ]
        }
      ]
    },
    {
      "cell_type": "code",
      "metadata": {
        "colab": {
          "base_uri": "https://localhost:8080/"
        },
        "id": "wnTzpnlUpesr",
        "outputId": "28d87c11-b025-43d6-b873-7bdf94e8acdd"
      },
      "source": [
        "# 12 - VISUALIZANDO O QUE TEM NA COLUNA \"Volume_Total\"\n",
        "\n",
        "df.select(\"UF\").distinct().collect()"
      ],
      "execution_count": null,
      "outputs": [
        {
          "output_type": "execute_result",
          "data": {
            "text/plain": [
              "[Row(UF='SC'),\n",
              " Row(UF='GO'),\n",
              " Row(UF=None),\n",
              " Row(UF='MT'),\n",
              " Row(UF='SP'),\n",
              " Row(UF='ES'),\n",
              " Row(UF='RS'),\n",
              " Row(UF='MS'),\n",
              " Row(UF='MG'),\n",
              " Row(UF='BA'),\n",
              " Row(UF='RJ'),\n",
              " Row(UF='PR')]"
            ]
          },
          "metadata": {},
          "execution_count": 25
        }
      ]
    },
    {
      "cell_type": "markdown",
      "metadata": {
        "id": "JgBEdpKabbAa"
      },
      "source": [
        "FILTROS E CONSULTAS"
      ]
    },
    {
      "cell_type": "code",
      "metadata": {
        "colab": {
          "base_uri": "https://localhost:8080/"
        },
        "id": "ULxjIfHxOVTs",
        "outputId": "492cd88a-d28c-4007-cd51-e9806c6d56ac"
      },
      "source": [
        "df.printSchema()"
      ],
      "execution_count": null,
      "outputs": [
        {
          "output_type": "stream",
          "name": "stdout",
          "text": [
            "root\n",
            " |-- ID: integer (nullable = true)\n",
            " |-- Concessionaria: string (nullable = true)\n",
            " |-- Data: date (nullable = true)\n",
            " |-- Sentido: string (nullable = true)\n",
            " |-- Tipo_de_veiculo: string (nullable = true)\n",
            " |-- Volume_total: double (nullable = true)\n",
            " |-- BR: string (nullable = true)\n",
            " |-- UF: string (nullable = true)\n",
            "\n"
          ]
        }
      ]
    },
    {
      "cell_type": "code",
      "metadata": {
        "colab": {
          "base_uri": "https://localhost:8080/"
        },
        "id": "krBEzpRDRFRV",
        "outputId": "7a4ca40f-7019-488f-8d84-93388fccc502"
      },
      "source": [
        "# 13 - FILTRO PARA IDENTIFICAR A QUANTIDADE ESPECIFICA DE PRAÇAS POR UF\n",
        "\n",
        "df.groupBy(F.col(\"UF\")).count().show()"
      ],
      "execution_count": null,
      "outputs": [
        {
          "output_type": "stream",
          "name": "stdout",
          "text": [
            "+----+-----+\n",
            "|  UF|count|\n",
            "+----+-----+\n",
            "|  SC| 3360|\n",
            "|  GO| 4704|\n",
            "|  MT| 6048|\n",
            "|  SP| 8153|\n",
            "|  ES| 3360|\n",
            "|  RS| 2400|\n",
            "|  MS| 6048|\n",
            "|  MG|14112|\n",
            "|  BA| 4032|\n",
            "|  RJ| 7442|\n",
            "|  PR| 1920|\n",
            "|null| 7600|\n",
            "+----+-----+\n",
            "\n"
          ]
        }
      ]
    },
    {
      "cell_type": "code",
      "metadata": {
        "colab": {
          "base_uri": "https://localhost:8080/"
        },
        "id": "bdBXbYmuSxV7",
        "outputId": "ef00e7f3-cea5-470d-c751-fe61183e23c4"
      },
      "source": [
        "# 14 - FILTRO PARA IDENTIFICAR A QUANTIDADE ESPECIFICA DE PRAÇAS POR \"Concessionaria\"\n",
        "\n",
        "df.groupBy(F.col(\"Concessionaria\")).count().show()"
      ],
      "execution_count": null,
      "outputs": [
        {
          "output_type": "stream",
          "name": "stdout",
          "text": [
            "+--------------------+-----+\n",
            "|      Concessionaria|count|\n",
            "+--------------------+-----+\n",
            "|      RODOVIA DO AÇO| 1440|\n",
            "|             VIA SUL| 3024|\n",
            "|AUTOPISTA FLUMINENSE| 2210|\n",
            "|              CONCER| 1440|\n",
            "|AUTOPISTA LITORAL...| 2400|\n",
            "|              ECOSUL| 2400|\n",
            "|AUTOPISTA FERNÃO ...| 3840|\n",
            "|AUTOPISTA REGIS B...| 2880|\n",
            "|                 CRT| 1728|\n",
            "|  ECOVIAS DO CERRADO|  112|\n",
            "|AUTOPISTA PLANALT...| 2400|\n",
            "|             VIA 040| 7392|\n",
            "|     TRANSBRASILIANA| 1920|\n",
            "|           NOVADUTRA| 4745|\n",
            "|           VIA BAHIA| 4032|\n",
            "|            CONCEBRA| 7392|\n",
            "|                 CRO| 6048|\n",
            "|               MSVIA| 6048|\n",
            "|            ECOPONTE|  336|\n",
            "|ECO101 CONCESSION...| 3360|\n",
            "+--------------------+-----+\n",
            "only showing top 20 rows\n",
            "\n"
          ]
        }
      ]
    },
    {
      "cell_type": "code",
      "metadata": {
        "colab": {
          "base_uri": "https://localhost:8080/"
        },
        "id": "6uxONzIlV_qn",
        "outputId": "33b9f3f2-b570-4582-f374-6a418b586b49"
      },
      "source": [
        "# 15 - FILTRO PARA IDENTIFICAR A QUANTIDADE ESPECIFICA DE PRAÇAS POR \"Tipo_de_Veiculo\"\n",
        "\n",
        "df.groupBy(F.col(\"Tipo_de_Veiculo\")).count().show()"
      ],
      "execution_count": null,
      "outputs": [
        {
          "output_type": "stream",
          "name": "stdout",
          "text": [
            "+---------------+-----+\n",
            "|Tipo_de_Veiculo|count|\n",
            "+---------------+-----+\n",
            "|      Comercial|46259|\n",
            "|        Passeio|17190|\n",
            "|           Moto| 5730|\n",
            "+---------------+-----+\n",
            "\n"
          ]
        }
      ]
    },
    {
      "cell_type": "code",
      "metadata": {
        "colab": {
          "base_uri": "https://localhost:8080/"
        },
        "id": "aNnvi8i_Uj_o",
        "outputId": "7410ffa5-281a-4735-fc06-67f1f9648fa2"
      },
      "source": [
        "# 16 - MÉDIA DE \"Volume_Total\" DE CARROS TRAFEGANDO EM TODAS AS VIAS\n",
        "\n",
        "df.select(F.round(F.avg(\"Volume_Total\"),2).alias('Média_de_Trafego')).show()\n"
      ],
      "execution_count": null,
      "outputs": [
        {
          "output_type": "stream",
          "name": "stdout",
          "text": [
            "+----------------+\n",
            "|Média_de_Trafego|\n",
            "+----------------+\n",
            "|        18195.97|\n",
            "+----------------+\n",
            "\n"
          ]
        }
      ]
    },
    {
      "cell_type": "code",
      "metadata": {
        "colab": {
          "base_uri": "https://localhost:8080/"
        },
        "id": "rij0rSePeR47",
        "outputId": "8cb7b582-703b-45dc-c83e-e6ad5767eea2"
      },
      "source": [
        "# MÉDIA DE CARROS POR ESTADO - grpdf = joined_df.groupBy(temp1.datestamp).max('diff').select(func.col(\"max(diff)\").alias(\"maxDiff\"))\n",
        "\n",
        "df.groupBy(F.col(\"UF\")).avg(\"Volume_Total\").select(F.col(\"UF\"), F.round(F.col(\"avg(Volume_Total)\"), 2).alias('Média_de_Trafego_UF')).show()"
      ],
      "execution_count": null,
      "outputs": [
        {
          "output_type": "stream",
          "name": "stdout",
          "text": [
            "+----+-------------------+\n",
            "|  UF|Média_de_Trafego_UF|\n",
            "+----+-------------------+\n",
            "|  SC|           35944.48|\n",
            "|  GO|           13257.98|\n",
            "|  MT|            8621.33|\n",
            "|  SP|           38173.38|\n",
            "|  ES|           14133.68|\n",
            "|  RS|            9006.12|\n",
            "|  MS|            5480.09|\n",
            "|  MG|           12702.54|\n",
            "|  BA|           19021.42|\n",
            "|  RJ|           24902.26|\n",
            "|  PR|           29663.79|\n",
            "|null|           14077.46|\n",
            "+----+-------------------+\n",
            "\n"
          ]
        }
      ]
    },
    {
      "cell_type": "code",
      "metadata": {
        "colab": {
          "base_uri": "https://localhost:8080/"
        },
        "id": "46Qt6vWJOal1",
        "outputId": "db90fe43-d015-4535-b9a2-c5fecdea0520"
      },
      "source": [
        "df.printSchema()"
      ],
      "execution_count": null,
      "outputs": [
        {
          "output_type": "stream",
          "name": "stdout",
          "text": [
            "root\n",
            " |-- ID: integer (nullable = true)\n",
            " |-- Concessionaria: string (nullable = true)\n",
            " |-- Data: date (nullable = true)\n",
            " |-- Sentido: string (nullable = true)\n",
            " |-- Tipo_de_veiculo: string (nullable = true)\n",
            " |-- Volume_total: double (nullable = true)\n",
            " |-- BR: string (nullable = true)\n",
            " |-- UF: string (nullable = true)\n",
            "\n"
          ]
        }
      ]
    },
    {
      "cell_type": "markdown",
      "metadata": {
        "id": "duJ-GeeQa-Tw"
      },
      "source": [
        "UTILIZANDO FUNÇÃO WINDOW"
      ]
    },
    {
      "cell_type": "code",
      "metadata": {
        "colab": {
          "base_uri": "https://localhost:8080/"
        },
        "id": "torPavEqX61n",
        "outputId": "78c0950c-6ad1-4322-839e-48d949a98505"
      },
      "source": [
        "# 18 - UTILIZANDO FUNÇÃO PARA OTIMIZAR A PESQUISA DE QUAL O GRUPO DE CARROS MAIS PASSA PELAS RODOVIAS EM DETERMINADO ESTADO , ORGANIZANDO POR \"UF\" >> \"Volume_Total\" >> \"BR\"\n",
        "\n",
        "w0 = Window.partitionBy(F.col(\"UF\")).orderBy(\"Volume_Total\", \"UF\", \"BR\")\n",
        "df.withColumn(\"row_number\", F.row_number().over(w0)).show()"
      ],
      "execution_count": null,
      "outputs": [
        {
          "output_type": "stream",
          "name": "stdout",
          "text": [
            "+-----+--------------+----------+-------+---------------+------------+----+----+----------+\n",
            "|   ID|Concessionaria|      Data|Sentido|Tipo_de_veiculo|Volume_total|  BR|  UF|row_number|\n",
            "+-----+--------------+----------+-------+---------------+------------+----+----+----------+\n",
            "|27180|       VIA SUL|2019-01-01|  Norte|        Passeio|        null|null|null|         1|\n",
            "|27181|       VIA SUL|2019-01-01|    Sul|        Passeio|        null|null|null|         2|\n",
            "|27201|       VIA SUL|2019-11-01|    Sul|        Passeio|        null|null|null|         3|\n",
            "|27203|       VIA SUL|2019-12-01|    Sul|        Passeio|        null|null|null|         4|\n",
            "|27204|       VIA SUL|2019-01-01|  Norte|      Comercial|        null|null|null|         5|\n",
            "|27205|       VIA SUL|2019-01-01|    Sul|      Comercial|        null|null|null|         6|\n",
            "|27225|       VIA SUL|2019-11-01|    Sul|      Comercial|        null|null|null|         7|\n",
            "|27227|       VIA SUL|2019-12-01|    Sul|      Comercial|        null|null|null|         8|\n",
            "|27228|       VIA SUL|2019-01-01|  Norte|        Passeio|        null|null|null|         9|\n",
            "|27229|       VIA SUL|2019-01-01|    Sul|        Passeio|        null|null|null|        10|\n",
            "|27249|       VIA SUL|2019-11-01|    Sul|        Passeio|        null|null|null|        11|\n",
            "|27251|       VIA SUL|2019-12-01|    Sul|        Passeio|        null|null|null|        12|\n",
            "|27252|       VIA SUL|2019-01-01|  Norte|      Comercial|        null|null|null|        13|\n",
            "|27253|       VIA SUL|2019-01-01|    Sul|      Comercial|        null|null|null|        14|\n",
            "|27273|       VIA SUL|2019-11-01|    Sul|      Comercial|        null|null|null|        15|\n",
            "|27275|       VIA SUL|2019-12-01|    Sul|      Comercial|        null|null|null|        16|\n",
            "|27276|       VIA SUL|2019-01-01|  Norte|        Passeio|        null|null|null|        17|\n",
            "|27277|       VIA SUL|2019-01-01|    Sul|        Passeio|        null|null|null|        18|\n",
            "|27297|       VIA SUL|2019-11-01|    Sul|        Passeio|        null|null|null|        19|\n",
            "|27299|       VIA SUL|2019-12-01|    Sul|        Passeio|        null|null|null|        20|\n",
            "+-----+--------------+----------+-------+---------------+------------+----+----+----------+\n",
            "only showing top 20 rows\n",
            "\n"
          ]
        }
      ]
    },
    {
      "cell_type": "code",
      "metadata": {
        "colab": {
          "base_uri": "https://localhost:8080/"
        },
        "id": "6oJTfhy1VIen",
        "outputId": "5ed653a4-4167-45d2-feb9-d5cbb0b37ef3"
      },
      "source": [
        "# 19 - UTILIZANDO FUNÇÃO AGG PARA REALIZAR DOIS CALCULOS SOBRE O VOLUME DE CARROS PERCORRENDO AS RODOVIAS \n",
        "\n",
        "'''\n",
        "A MÉDIA DAS RENDAS DOS CLIENTES\n",
        "A SOMA TOTAL DAS RENDAS DOS CLIENTES\n",
        "'''\n",
        "\n",
        "(df.withColumn(\"row\", F.row_number().over(w0))\n",
        " .withColumn(\"avg\", F.avg(F.col(\"Volume_Total\")).over(w0))\n",
        " .withColumn(\"sum\", F.sum(F.col(\"Volume_Total\")).over(w0))\n",
        "  .where(F.col(\"row\") == 1).select(\"row\",\"UF\", \"BR\", \"avg\", \"sum\").show()\n",
        ")"
      ],
      "execution_count": null,
      "outputs": [
        {
          "output_type": "stream",
          "name": "stdout",
          "text": [
            "+---+----+------+----+----+\n",
            "|row|  UF|    BR| avg| sum|\n",
            "+---+----+------+----+----+\n",
            "|  1|null|  null|null|null|\n",
            "|  1|  BA|BR-116|54.0|54.0|\n",
            "|  1|  ES|BR-101|50.0|50.0|\n",
            "|  1|  GO|BR-040|null|null|\n",
            "|  1|  MG|BR-040|null|null|\n",
            "|  1|  MS|BR-163|null|null|\n",
            "|  1|  MT|BR-163|null|null|\n",
            "|  1|  PR|BR-116| 0.0| 0.0|\n",
            "|  1|  RJ|BR-101|null|null|\n",
            "|  1|  RS|BR-116|null|null|\n",
            "|  1|  SC|BR-116| 0.0| 0.0|\n",
            "|  1|  SP|BR-116|null|null|\n",
            "+---+----+------+----+----+\n",
            "\n"
          ]
        }
      ]
    },
    {
      "cell_type": "code",
      "metadata": {
        "colab": {
          "base_uri": "https://localhost:8080/"
        },
        "id": "srFX2wy6OfKS",
        "outputId": "6753312b-b8c7-47fd-b72b-7f4f8608015b"
      },
      "source": [
        "df.printSchema()"
      ],
      "execution_count": null,
      "outputs": [
        {
          "output_type": "stream",
          "name": "stdout",
          "text": [
            "root\n",
            " |-- ID: integer (nullable = true)\n",
            " |-- Concessionaria: string (nullable = true)\n",
            " |-- Data: date (nullable = true)\n",
            " |-- Sentido: string (nullable = true)\n",
            " |-- Tipo_de_veiculo: string (nullable = true)\n",
            " |-- Volume_total: double (nullable = true)\n",
            " |-- BR: string (nullable = true)\n",
            " |-- UF: string (nullable = true)\n",
            "\n"
          ]
        }
      ]
    },
    {
      "cell_type": "code",
      "metadata": {
        "colab": {
          "base_uri": "https://localhost:8080/"
        },
        "id": "T6p5yfEZLdft",
        "outputId": "7f76920c-d388-466f-da29-9feb37dc49b7"
      },
      "source": [
        "#20 - SALVANDO O ARQUIVO NORMALIZADO NO BUCKET\n",
        "\n",
        "(df.write.format(\"csv\").option(\"header\", \"true\")\n",
        "                        .option(\"inferschema\", \"true\")\n",
        "                        .option(\"delimiter\", \",\")\n",
        "                        .save(\"pedagio_pyspark\"))\n",
        "!gsutil cp -r pedagio_pyspark gs://notebooks_pyspark_sql_gp03"
      ],
      "execution_count": null,
      "outputs": [
        {
          "output_type": "stream",
          "name": "stdout",
          "text": [
            "Copying file://pedagio_pyspark/._SUCCESS.crc [Content-Type=application/octet-stream]...\n",
            "Copying file://pedagio_pyspark/.part-00000-732acd99-8e9c-476c-8f83-64ec9ad8fc34-c000.csv.crc [Content-Type=application/octet-stream]...\n",
            "Copying file://pedagio_pyspark/part-00000-732acd99-8e9c-476c-8f83-64ec9ad8fc34-c000.csv [Content-Type=text/csv]...\n",
            "Copying file://pedagio_pyspark/_SUCCESS [Content-Type=application/octet-stream]...\n",
            "\\ [4 files][  4.0 MiB/  4.0 MiB]                                                \n",
            "Operation completed over 4 objects/4.0 MiB.                                      \n"
          ]
        }
      ]
    }
  ]
}
